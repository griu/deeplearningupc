{
  "nbformat": 4,
  "nbformat_minor": 0,
  "metadata": {
    "colab": {
      "name": "Magenta_Initial.ipynb",
      "version": "0.3.2",
      "provenance": [],
      "collapsed_sections": [],
      "include_colab_link": true
    },
    "kernelspec": {
      "name": "python3",
      "display_name": "Python 3"
    }
  },
  "cells": [
    {
      "cell_type": "markdown",
      "metadata": {
        "id": "view-in-github",
        "colab_type": "text"
      },
      "source": [
        "<a href=\"https://colab.research.google.com/github/griu/deeplearningupc/blob/master/PRJ_001_Magenta_Initial.ipynb\" target=\"_parent\"><img src=\"https://colab.research.google.com/assets/colab-badge.svg\" alt=\"Open In Colab\"/></a>"
      ]
    },
    {
      "cell_type": "code",
      "metadata": {
        "id": "IWrLTu3g1Mjh",
        "colab_type": "code",
        "colab": {}
      },
      "source": [
        ""
      ],
      "execution_count": 0,
      "outputs": []
    },
    {
      "cell_type": "code",
      "metadata": {
        "id": "W0Pbw6gN1n9f",
        "colab_type": "code",
        "colab": {}
      },
      "source": [
        ""
      ],
      "execution_count": 0,
      "outputs": []
    },
    {
      "cell_type": "code",
      "metadata": {
        "id": "nyKGvD3M1n1D",
        "colab_type": "code",
        "outputId": "b9a9693b-692f-4d45-a904-ea5d2fbaa818",
        "colab": {
          "base_uri": "https://localhost:8080/",
          "height": 191
        }
      },
      "source": [
        "!sudo apt-get install build-essential libasound2-dev libjack-dev"
      ],
      "execution_count": 0,
      "outputs": [
        {
          "output_type": "stream",
          "text": [
            "Reading package lists... Done\n",
            "Building dependency tree       \n",
            "Reading state information... Done\n",
            "build-essential is already the newest version (12.4ubuntu1).\n",
            "libjack-dev is already the newest version (1:0.125.0-3).\n",
            "libasound2-dev is already the newest version (1.1.3-5ubuntu0.2).\n",
            "The following package was automatically installed and is no longer required:\n",
            "  libnvidia-common-410\n",
            "Use 'sudo apt autoremove' to remove it.\n",
            "0 upgraded, 0 newly installed, 0 to remove and 11 not upgraded.\n"
          ],
          "name": "stdout"
        }
      ]
    },
    {
      "cell_type": "code",
      "metadata": {
        "id": "mvp6uqyU1nrZ",
        "colab_type": "code",
        "outputId": "bf212f14-8ebe-43f4-87c4-ad55df0f329f",
        "colab": {
          "base_uri": "https://localhost:8080/",
          "height": 940
        }
      },
      "source": [
        "!apt-get upgrade"
      ],
      "execution_count": 0,
      "outputs": [
        {
          "output_type": "stream",
          "text": [
            "Reading package lists... Done\n",
            "Building dependency tree       \n",
            "Reading state information... Done\n",
            "Calculating upgrade... Done\n",
            "The following package was automatically installed and is no longer required:\n",
            "  libnvidia-common-410\n",
            "Use 'apt autoremove' to remove it.\n",
            "The following packages have been kept back:\n",
            "  libcudnn7 libcudnn7-dev libnccl-dev libnccl2\n",
            "The following packages will be upgraded:\n",
            "  libldap-2.4-2 libldap-common libseccomp2 libunistring2 linux-libc-dev login\n",
            "  passwd\n",
            "7 upgraded, 0 newly installed, 0 to remove and 4 not upgraded.\n",
            "Need to get 2,707 kB of archives.\n",
            "After this operation, 21.5 kB of additional disk space will be used.\n",
            "Get:1 http://archive.ubuntu.com/ubuntu bionic-updates/main amd64 login amd64 1:4.5-1ubuntu2 [308 kB]\n",
            "Get:2 http://archive.ubuntu.com/ubuntu bionic-updates/main amd64 passwd amd64 1:4.5-1ubuntu2 [816 kB]\n",
            "Get:3 http://archive.ubuntu.com/ubuntu bionic-updates/main amd64 libseccomp2 amd64 2.3.1-2.1ubuntu4.1 [39.1 kB]\n",
            "Get:4 http://archive.ubuntu.com/ubuntu bionic-updates/main amd64 libunistring2 amd64 0.9.9-0ubuntu2 [368 kB]\n",
            "Get:5 http://archive.ubuntu.com/ubuntu bionic-updates/main amd64 libldap-common all 2.4.45+dfsg-1ubuntu1.2 [16.7 kB]\n",
            "Get:6 http://archive.ubuntu.com/ubuntu bionic-updates/main amd64 libldap-2.4-2 amd64 2.4.45+dfsg-1ubuntu1.2 [155 kB]\n",
            "Get:7 http://archive.ubuntu.com/ubuntu bionic-updates/main amd64 linux-libc-dev amd64 4.15.0-48.51 [1,006 kB]\n",
            "Fetched 2,707 kB in 2s (1,756 kB/s)\n",
            "(Reading database ... 130812 files and directories currently installed.)\n",
            "Preparing to unpack .../login_1%3a4.5-1ubuntu2_amd64.deb ...\n",
            "Unpacking login (1:4.5-1ubuntu2) over (1:4.5-1ubuntu1) ...\n",
            "Setting up login (1:4.5-1ubuntu2) ...\n",
            "(Reading database ... 130812 files and directories currently installed.)\n",
            "Preparing to unpack .../passwd_1%3a4.5-1ubuntu2_amd64.deb ...\n",
            "Unpacking passwd (1:4.5-1ubuntu2) over (1:4.5-1ubuntu1) ...\n",
            "Setting up passwd (1:4.5-1ubuntu2) ...\n",
            "(Reading database ... 130812 files and directories currently installed.)\n",
            "Preparing to unpack .../libseccomp2_2.3.1-2.1ubuntu4.1_amd64.deb ...\n",
            "Unpacking libseccomp2:amd64 (2.3.1-2.1ubuntu4.1) over (2.3.1-2.1ubuntu4) ...\n",
            "Setting up libseccomp2:amd64 (2.3.1-2.1ubuntu4.1) ...\n",
            "(Reading database ... 130812 files and directories currently installed.)\n",
            "Preparing to unpack .../libunistring2_0.9.9-0ubuntu2_amd64.deb ...\n",
            "Unpacking libunistring2:amd64 (0.9.9-0ubuntu2) over (0.9.9-0ubuntu1) ...\n",
            "Setting up libunistring2:amd64 (0.9.9-0ubuntu2) ...\n",
            "(Reading database ... 130812 files and directories currently installed.)\n",
            "Preparing to unpack .../libldap-common_2.4.45+dfsg-1ubuntu1.2_all.deb ...\n",
            "Unpacking libldap-common (2.4.45+dfsg-1ubuntu1.2) over (2.4.45+dfsg-1ubuntu1.1) ...\n",
            "Preparing to unpack .../libldap-2.4-2_2.4.45+dfsg-1ubuntu1.2_amd64.deb ...\n",
            "Unpacking libldap-2.4-2:amd64 (2.4.45+dfsg-1ubuntu1.2) over (2.4.45+dfsg-1ubuntu1.1) ...\n",
            "Preparing to unpack .../linux-libc-dev_4.15.0-48.51_amd64.deb ...\n",
            "Unpacking linux-libc-dev:amd64 (4.15.0-48.51) over (4.15.0-47.50) ...\n",
            "Setting up libldap-common (2.4.45+dfsg-1ubuntu1.2) ...\n",
            "Setting up linux-libc-dev:amd64 (4.15.0-48.51) ...\n",
            "Processing triggers for libc-bin (2.27-3ubuntu1) ...\n",
            "Setting up libldap-2.4-2:amd64 (2.4.45+dfsg-1ubuntu1.2) ...\n",
            "Processing triggers for man-db (2.8.3-2ubuntu0.1) ...\n",
            "Processing triggers for libc-bin (2.27-3ubuntu1) ...\n"
          ],
          "name": "stdout"
        }
      ]
    },
    {
      "cell_type": "code",
      "metadata": {
        "id": "DlFoqm8V1njD",
        "colab_type": "code",
        "outputId": "b0bb0cd2-e8ca-4eda-9721-6d78e2cc903e",
        "colab": {
          "base_uri": "https://localhost:8080/",
          "height": 2520
        }
      },
      "source": [
        "!pip install magenta-gpu"
      ],
      "execution_count": 0,
      "outputs": [
        {
          "output_type": "stream",
          "text": [
            "Collecting magenta-gpu\n",
            "\u001b[?25l  Downloading https://files.pythonhosted.org/packages/a4/61/0d88b7e3298753b8eb4c5fd0edef5e6633ec7611ab5df7c90f7c568fb3c7/magenta_gpu-1.1.1-py2.py3-none-any.whl (1.5MB)\n",
            "\u001b[K     |████████████████████████████████| 1.5MB 5.1MB/s \n",
            "\u001b[?25hRequirement already satisfied: joblib>=0.12 in /usr/local/lib/python3.6/dist-packages (from magenta-gpu) (0.12.5)\n",
            "Requirement already satisfied: Pillow>=3.4.2 in /usr/local/lib/python3.6/dist-packages (from magenta-gpu) (4.3.0)\n",
            "Requirement already satisfied: backports.tempfile in /usr/local/lib/python3.6/dist-packages (from magenta-gpu) (1.0)\n",
            "Collecting sonnet (from magenta-gpu)\n",
            "  Downloading https://files.pythonhosted.org/packages/01/aa/641d5113d301cc67e2efd802bfd566ab5390676ea1117b2b8954ea6d60c1/sonnet-0.1.6.tar.gz\n",
            "Requirement already satisfied: numpy>=1.14.6 in /usr/local/lib/python3.6/dist-packages (from magenta-gpu) (1.16.3)\n",
            "Requirement already satisfied: tensorflow-probability>=0.5.0 in /usr/local/lib/python3.6/dist-packages (from magenta-gpu) (0.6.0)\n",
            "Collecting python-rtmidi<1.2,>=1.1 (from magenta-gpu)\n",
            "\u001b[?25l  Downloading https://files.pythonhosted.org/packages/2c/78/16f6d12abfccb6b1d330b1e1c6228536fa8d8ef6c14d560aba20176f044c/python-rtmidi-1.1.2.tar.gz (204kB)\n",
            "\u001b[K     |████████████████████████████████| 204kB 45.2MB/s \n",
            "\u001b[?25hRequirement already satisfied: mido==1.2.6 in /usr/local/lib/python3.6/dist-packages (from magenta-gpu) (1.2.6)\n",
            "Collecting scipy<=1.2.0,>=0.18.1 (from magenta-gpu)\n",
            "\u001b[?25l  Downloading https://files.pythonhosted.org/packages/67/e6/6d4edaceee6a110ecf6f318482f5229792f143e468b34a631f5a0899f56d/scipy-1.2.0-cp36-cp36m-manylinux1_x86_64.whl (26.6MB)\n",
            "\u001b[K     |████████████████████████████████| 26.6MB 1.3MB/s \n",
            "\u001b[?25hRequirement already satisfied: mir-eval>=0.4 in /usr/local/lib/python3.6/dist-packages (from magenta-gpu) (0.5)\n",
            "Requirement already satisfied: bokeh>=0.12.0 in /usr/local/lib/python3.6/dist-packages (from magenta-gpu) (1.0.4)\n",
            "Requirement already satisfied: pretty-midi>=0.2.6 in /usr/local/lib/python3.6/dist-packages (from magenta-gpu) (0.2.8)\n",
            "Requirement already satisfied: matplotlib>=1.5.3 in /usr/local/lib/python3.6/dist-packages (from magenta-gpu) (3.0.3)\n",
            "Requirement already satisfied: tensor2tensor>=1.10.0 in /usr/local/lib/python3.6/dist-packages (from magenta-gpu) (1.11.0)\n",
            "Requirement already satisfied: absl-py in /usr/local/lib/python3.6/dist-packages (from magenta-gpu) (0.7.1)\n",
            "Collecting sk-video (from magenta-gpu)\n",
            "\u001b[?25l  Downloading https://files.pythonhosted.org/packages/dd/3f/ce848b8b2062ad1ccf1449094a740c775f6c761339f411e44f1e090f23a7/sk_video-1.1.10-py2.py3-none-any.whl (2.3MB)\n",
            "\u001b[K     |████████████████████████████████| 2.3MB 32.6MB/s \n",
            "\u001b[?25hCollecting tensorflow-gpu>=1.12.0 (from magenta-gpu)\n",
            "\u001b[?25l  Downloading https://files.pythonhosted.org/packages/7b/b1/0ad4ae02e17ddd62109cd54c291e311c4b5fd09b4d0678d3d6ce4159b0f0/tensorflow_gpu-1.13.1-cp36-cp36m-manylinux1_x86_64.whl (345.2MB)\n",
            "\u001b[K     |████████████████████████████████| 345.2MB 47kB/s \n",
            "\u001b[?25hRequirement already satisfied: pandas>=0.18.1 in /usr/local/lib/python3.6/dist-packages (from magenta-gpu) (0.24.2)\n",
            "Requirement already satisfied: protobuf>=3.6.1 in /usr/local/lib/python3.6/dist-packages (from magenta-gpu) (3.7.1)\n",
            "Collecting sox>=1.3.7 (from magenta-gpu)\n",
            "  Downloading https://files.pythonhosted.org/packages/60/a0/5bee540554af8376e0313e462629d95bf2f2bc3c8cb60697aa01254e6cf5/sox-1.3.7-py2.py3-none-any.whl\n",
            "Requirement already satisfied: intervaltree>=2.1.0 in /usr/local/lib/python3.6/dist-packages (from magenta-gpu) (2.1.0)\n",
            "Requirement already satisfied: wheel in /usr/local/lib/python3.6/dist-packages (from magenta-gpu) (0.33.1)\n",
            "Collecting pygtrie>=2.3 (from magenta-gpu)\n",
            "  Downloading https://files.pythonhosted.org/packages/9d/42/f70a09ce102fa2fc1c54df26f71ecbf0a38e78c1da0b1b58bcf539cf2e94/pygtrie-2.3.tar.gz\n",
            "Requirement already satisfied: IPython in /usr/local/lib/python3.6/dist-packages (from magenta-gpu) (5.5.0)\n",
            "Requirement already satisfied: librosa>=0.6.2 in /usr/local/lib/python3.6/dist-packages (from magenta-gpu) (0.6.3)\n",
            "Collecting tensorflow-datasets>=1.0.2 (from magenta-gpu)\n",
            "\u001b[?25l  Downloading https://files.pythonhosted.org/packages/15/11/ce86b45cb41de8490d2f27f76ad5fe2f75d6eaac1c21f4a12baf1875882e/tensorflow_datasets-1.0.2-py3-none-any.whl (682kB)\n",
            "\u001b[K     |████████████████████████████████| 686kB 40.7MB/s \n",
            "\u001b[?25hRequirement already satisfied: olefile in /usr/local/lib/python3.6/dist-packages (from Pillow>=3.4.2->magenta-gpu) (0.46)\n",
            "Requirement already satisfied: backports.weakref in /usr/local/lib/python3.6/dist-packages (from backports.tempfile->magenta-gpu) (1.0.post1)\n",
            "Collecting networkx==1.8.1 (from sonnet->magenta-gpu)\n",
            "\u001b[?25l  Downloading https://files.pythonhosted.org/packages/1e/ce/c5f0d432ab38b114a18020c1f716e08347b580b6865111ef1314995627a2/networkx-1.8.1.tar.gz (806kB)\n",
            "\u001b[K     |████████████████████████████████| 808kB 37.3MB/s \n",
            "\u001b[?25hRequirement already satisfied: six>=1.10.0 in /usr/local/lib/python3.6/dist-packages (from tensorflow-probability>=0.5.0->magenta-gpu) (1.12.0)\n",
            "Requirement already satisfied: future in /usr/local/lib/python3.6/dist-packages (from mir-eval>=0.4->magenta-gpu) (0.16.0)\n",
            "Requirement already satisfied: packaging>=16.8 in /usr/local/lib/python3.6/dist-packages (from bokeh>=0.12.0->magenta-gpu) (19.0)\n",
            "Requirement already satisfied: Jinja2>=2.7 in /usr/local/lib/python3.6/dist-packages (from bokeh>=0.12.0->magenta-gpu) (2.10.1)\n",
            "Requirement already satisfied: python-dateutil>=2.1 in /usr/local/lib/python3.6/dist-packages (from bokeh>=0.12.0->magenta-gpu) (2.5.3)\n",
            "Requirement already satisfied: tornado>=4.3 in /usr/local/lib/python3.6/dist-packages (from bokeh>=0.12.0->magenta-gpu) (4.5.3)\n",
            "Requirement already satisfied: PyYAML>=3.10 in /usr/local/lib/python3.6/dist-packages (from bokeh>=0.12.0->magenta-gpu) (3.13)\n",
            "Requirement already satisfied: pyparsing!=2.0.4,!=2.1.2,!=2.1.6,>=2.0.1 in /usr/local/lib/python3.6/dist-packages (from matplotlib>=1.5.3->magenta-gpu) (2.4.0)\n",
            "Requirement already satisfied: cycler>=0.10 in /usr/local/lib/python3.6/dist-packages (from matplotlib>=1.5.3->magenta-gpu) (0.10.0)\n",
            "Requirement already satisfied: kiwisolver>=1.0.1 in /usr/local/lib/python3.6/dist-packages (from matplotlib>=1.5.3->magenta-gpu) (1.1.0)\n",
            "Requirement already satisfied: sympy in /usr/local/lib/python3.6/dist-packages (from tensor2tensor>=1.10.0->magenta-gpu) (1.1.1)\n",
            "Requirement already satisfied: gym in /usr/local/lib/python3.6/dist-packages (from tensor2tensor>=1.10.0->magenta-gpu) (0.10.11)\n",
            "Requirement already satisfied: requests in /usr/local/lib/python3.6/dist-packages (from tensor2tensor>=1.10.0->magenta-gpu) (2.21.0)\n",
            "Requirement already satisfied: bz2file in /usr/local/lib/python3.6/dist-packages (from tensor2tensor>=1.10.0->magenta-gpu) (0.98)\n",
            "Requirement already satisfied: tqdm in /usr/local/lib/python3.6/dist-packages (from tensor2tensor>=1.10.0->magenta-gpu) (4.28.1)\n",
            "Requirement already satisfied: gevent in /usr/local/lib/python3.6/dist-packages (from tensor2tensor>=1.10.0->magenta-gpu) (1.4.0)\n",
            "Requirement already satisfied: mesh-tensorflow in /usr/local/lib/python3.6/dist-packages (from tensor2tensor>=1.10.0->magenta-gpu) (0.0.5)\n",
            "Requirement already satisfied: tfds-nightly in /usr/local/lib/python3.6/dist-packages (from tensor2tensor>=1.10.0->magenta-gpu) (1.0.2.dev201905010105)\n",
            "Requirement already satisfied: flask in /usr/local/lib/python3.6/dist-packages (from tensor2tensor>=1.10.0->magenta-gpu) (1.0.2)\n",
            "Requirement already satisfied: gunicorn in /usr/local/lib/python3.6/dist-packages (from tensor2tensor>=1.10.0->magenta-gpu) (19.9.0)\n",
            "Requirement already satisfied: google-api-python-client in /usr/local/lib/python3.6/dist-packages (from tensor2tensor>=1.10.0->magenta-gpu) (1.6.7)\n",
            "Requirement already satisfied: h5py in /usr/local/lib/python3.6/dist-packages (from tensor2tensor>=1.10.0->magenta-gpu) (2.8.0)\n",
            "Requirement already satisfied: oauth2client in /usr/local/lib/python3.6/dist-packages (from tensor2tensor>=1.10.0->magenta-gpu) (4.1.3)\n",
            "Requirement already satisfied: astor>=0.6.0 in /usr/local/lib/python3.6/dist-packages (from tensorflow-gpu>=1.12.0->magenta-gpu) (0.7.1)\n",
            "Requirement already satisfied: gast>=0.2.0 in /usr/local/lib/python3.6/dist-packages (from tensorflow-gpu>=1.12.0->magenta-gpu) (0.2.2)\n",
            "Requirement already satisfied: tensorboard<1.14.0,>=1.13.0 in /usr/local/lib/python3.6/dist-packages (from tensorflow-gpu>=1.12.0->magenta-gpu) (1.13.1)\n",
            "Requirement already satisfied: keras-preprocessing>=1.0.5 in /usr/local/lib/python3.6/dist-packages (from tensorflow-gpu>=1.12.0->magenta-gpu) (1.0.9)\n",
            "Requirement already satisfied: tensorflow-estimator<1.14.0rc0,>=1.13.0 in /usr/local/lib/python3.6/dist-packages (from tensorflow-gpu>=1.12.0->magenta-gpu) (1.13.0)\n",
            "Requirement already satisfied: termcolor>=1.1.0 in /usr/local/lib/python3.6/dist-packages (from tensorflow-gpu>=1.12.0->magenta-gpu) (1.1.0)\n",
            "Requirement already satisfied: grpcio>=1.8.6 in /usr/local/lib/python3.6/dist-packages (from tensorflow-gpu>=1.12.0->magenta-gpu) (1.15.0)\n",
            "Requirement already satisfied: keras-applications>=1.0.6 in /usr/local/lib/python3.6/dist-packages (from tensorflow-gpu>=1.12.0->magenta-gpu) (1.0.7)\n",
            "Requirement already satisfied: pytz>=2011k in /usr/local/lib/python3.6/dist-packages (from pandas>=0.18.1->magenta-gpu) (2018.9)\n",
            "Requirement already satisfied: setuptools in /usr/local/lib/python3.6/dist-packages (from protobuf>=3.6.1->magenta-gpu) (41.0.1)\n",
            "Requirement already satisfied: sortedcontainers in /usr/local/lib/python3.6/dist-packages (from intervaltree>=2.1.0->magenta-gpu) (2.1.0)\n",
            "Requirement already satisfied: pexpect; sys_platform != \"win32\" in /usr/local/lib/python3.6/dist-packages (from IPython->magenta-gpu) (4.7.0)\n",
            "Requirement already satisfied: pygments in /usr/local/lib/python3.6/dist-packages (from IPython->magenta-gpu) (2.1.3)\n",
            "Requirement already satisfied: decorator in /usr/local/lib/python3.6/dist-packages (from IPython->magenta-gpu) (4.4.0)\n",
            "Requirement already satisfied: pickleshare in /usr/local/lib/python3.6/dist-packages (from IPython->magenta-gpu) (0.7.5)\n",
            "Requirement already satisfied: prompt-toolkit<2.0.0,>=1.0.4 in /usr/local/lib/python3.6/dist-packages (from IPython->magenta-gpu) (1.0.16)\n",
            "Requirement already satisfied: traitlets>=4.2 in /usr/local/lib/python3.6/dist-packages (from IPython->magenta-gpu) (4.3.2)\n",
            "Requirement already satisfied: simplegeneric>0.8 in /usr/local/lib/python3.6/dist-packages (from IPython->magenta-gpu) (0.8.1)\n",
            "Requirement already satisfied: audioread>=2.0.0 in /usr/local/lib/python3.6/dist-packages (from librosa>=0.6.2->magenta-gpu) (2.1.6)\n",
            "Requirement already satisfied: resampy>=0.2.0 in /usr/local/lib/python3.6/dist-packages (from librosa>=0.6.2->magenta-gpu) (0.2.1)\n",
            "Requirement already satisfied: scikit-learn!=0.19.0,>=0.14.0 in /usr/local/lib/python3.6/dist-packages (from librosa>=0.6.2->magenta-gpu) (0.20.3)\n",
            "Requirement already satisfied: numba>=0.38.0 in /usr/local/lib/python3.6/dist-packages (from librosa>=0.6.2->magenta-gpu) (0.40.1)\n",
            "Requirement already satisfied: wrapt in /usr/local/lib/python3.6/dist-packages (from tensorflow-datasets>=1.0.2->magenta-gpu) (1.10.11)\n",
            "Requirement already satisfied: psutil in /usr/local/lib/python3.6/dist-packages (from tensorflow-datasets>=1.0.2->magenta-gpu) (5.4.8)\n",
            "Requirement already satisfied: tensorflow-metadata in /usr/local/lib/python3.6/dist-packages (from tensorflow-datasets>=1.0.2->magenta-gpu) (0.13.0)\n",
            "Requirement already satisfied: promise in /usr/local/lib/python3.6/dist-packages (from tensorflow-datasets>=1.0.2->magenta-gpu) (2.2.1)\n",
            "Requirement already satisfied: dill in /usr/local/lib/python3.6/dist-packages (from tensorflow-datasets>=1.0.2->magenta-gpu) (0.2.9)\n",
            "Requirement already satisfied: MarkupSafe>=0.23 in /usr/local/lib/python3.6/dist-packages (from Jinja2>=2.7->bokeh>=0.12.0->magenta-gpu) (1.1.1)\n",
            "Requirement already satisfied: mpmath>=0.19 in /usr/local/lib/python3.6/dist-packages (from sympy->tensor2tensor>=1.10.0->magenta-gpu) (1.1.0)\n",
            "Requirement already satisfied: pyglet>=1.2.0 in /usr/local/lib/python3.6/dist-packages (from gym->tensor2tensor>=1.10.0->magenta-gpu) (1.3.2)\n",
            "Requirement already satisfied: idna<2.9,>=2.5 in /usr/local/lib/python3.6/dist-packages (from requests->tensor2tensor>=1.10.0->magenta-gpu) (2.8)\n",
            "Requirement already satisfied: certifi>=2017.4.17 in /usr/local/lib/python3.6/dist-packages (from requests->tensor2tensor>=1.10.0->magenta-gpu) (2019.3.9)\n",
            "Requirement already satisfied: urllib3<1.25,>=1.21.1 in /usr/local/lib/python3.6/dist-packages (from requests->tensor2tensor>=1.10.0->magenta-gpu) (1.24.2)\n",
            "Requirement already satisfied: chardet<3.1.0,>=3.0.2 in /usr/local/lib/python3.6/dist-packages (from requests->tensor2tensor>=1.10.0->magenta-gpu) (3.0.4)\n",
            "Requirement already satisfied: greenlet>=0.4.14; platform_python_implementation == \"CPython\" in /usr/local/lib/python3.6/dist-packages (from gevent->tensor2tensor>=1.10.0->magenta-gpu) (0.4.15)\n",
            "Requirement already satisfied: itsdangerous>=0.24 in /usr/local/lib/python3.6/dist-packages (from flask->tensor2tensor>=1.10.0->magenta-gpu) (1.1.0)\n",
            "Requirement already satisfied: Werkzeug>=0.14 in /usr/local/lib/python3.6/dist-packages (from flask->tensor2tensor>=1.10.0->magenta-gpu) (0.15.2)\n",
            "Requirement already satisfied: click>=5.1 in /usr/local/lib/python3.6/dist-packages (from flask->tensor2tensor>=1.10.0->magenta-gpu) (7.0)\n",
            "Requirement already satisfied: httplib2<1dev,>=0.9.2 in /usr/local/lib/python3.6/dist-packages (from google-api-python-client->tensor2tensor>=1.10.0->magenta-gpu) (0.11.3)\n",
            "Requirement already satisfied: uritemplate<4dev,>=3.0.0 in /usr/local/lib/python3.6/dist-packages (from google-api-python-client->tensor2tensor>=1.10.0->magenta-gpu) (3.0.0)\n",
            "Requirement already satisfied: pyasn1-modules>=0.0.5 in /usr/local/lib/python3.6/dist-packages (from oauth2client->tensor2tensor>=1.10.0->magenta-gpu) (0.2.5)\n",
            "Requirement already satisfied: rsa>=3.1.4 in /usr/local/lib/python3.6/dist-packages (from oauth2client->tensor2tensor>=1.10.0->magenta-gpu) (4.0)\n",
            "Requirement already satisfied: pyasn1>=0.1.7 in /usr/local/lib/python3.6/dist-packages (from oauth2client->tensor2tensor>=1.10.0->magenta-gpu) (0.4.5)\n",
            "Requirement already satisfied: markdown>=2.6.8 in /usr/local/lib/python3.6/dist-packages (from tensorboard<1.14.0,>=1.13.0->tensorflow-gpu>=1.12.0->magenta-gpu) (3.1)\n",
            "Requirement already satisfied: mock>=2.0.0 in /usr/local/lib/python3.6/dist-packages (from tensorflow-estimator<1.14.0rc0,>=1.13.0->tensorflow-gpu>=1.12.0->magenta-gpu) (2.0.0)\n",
            "Requirement already satisfied: ptyprocess>=0.5 in /usr/local/lib/python3.6/dist-packages (from pexpect; sys_platform != \"win32\"->IPython->magenta-gpu) (0.6.0)\n",
            "Requirement already satisfied: wcwidth in /usr/local/lib/python3.6/dist-packages (from prompt-toolkit<2.0.0,>=1.0.4->IPython->magenta-gpu) (0.1.7)\n",
            "Requirement already satisfied: ipython-genutils in /usr/local/lib/python3.6/dist-packages (from traitlets>=4.2->IPython->magenta-gpu) (0.2.0)\n",
            "Requirement already satisfied: llvmlite>=0.25.0dev0 in /usr/local/lib/python3.6/dist-packages (from numba>=0.38.0->librosa>=0.6.2->magenta-gpu) (0.28.0)\n",
            "Requirement already satisfied: googleapis-common-protos in /usr/local/lib/python3.6/dist-packages (from tensorflow-metadata->tensorflow-datasets>=1.0.2->magenta-gpu) (1.5.10)\n",
            "Requirement already satisfied: pbr>=0.11 in /usr/local/lib/python3.6/dist-packages (from mock>=2.0.0->tensorflow-estimator<1.14.0rc0,>=1.13.0->tensorflow-gpu>=1.12.0->magenta-gpu) (5.2.0)\n",
            "Building wheels for collected packages: sonnet, python-rtmidi, pygtrie, networkx\n",
            "  Building wheel for sonnet (setup.py) ... \u001b[?25l\u001b[?25hdone\n",
            "  Stored in directory: /root/.cache/pip/wheels/c9/eb/cf/78638749d5a9065ef666af154431cff8f2e82bd2d9dc0d96b2\n",
            "  Building wheel for python-rtmidi (setup.py) ... \u001b[?25l\u001b[?25hdone\n",
            "  Stored in directory: /root/.cache/pip/wheels/b4/9d/55/0554f02fbc777976865e0ea603028a0f87854b7df385ffa366\n",
            "  Building wheel for pygtrie (setup.py) ... \u001b[?25l\u001b[?25hdone\n",
            "  Stored in directory: /root/.cache/pip/wheels/3c/d0/b1/c8f2bbb9dc1fd0e25acde4d81972055b426430630f99395b8d\n",
            "  Building wheel for networkx (setup.py) ... \u001b[?25l\u001b[?25hdone\n",
            "  Stored in directory: /root/.cache/pip/wheels/b0/45/7a/70a261dd19bcb094df5e3629f305a81156c9c2f15d47b29c89\n",
            "Successfully built sonnet python-rtmidi pygtrie networkx\n",
            "\u001b[31mERROR: albumentations 0.1.12 has requirement imgaug<0.2.7,>=0.2.5, but you'll have imgaug 0.2.8 which is incompatible.\u001b[0m\n",
            "Installing collected packages: networkx, sonnet, python-rtmidi, scipy, sk-video, tensorflow-gpu, sox, pygtrie, tensorflow-datasets, magenta-gpu\n",
            "  Found existing installation: networkx 2.3\n",
            "    Uninstalling networkx-2.3:\n",
            "      Successfully uninstalled networkx-2.3\n",
            "  Found existing installation: python-rtmidi 1.3.0\n",
            "    Uninstalling python-rtmidi-1.3.0:\n",
            "      Successfully uninstalled python-rtmidi-1.3.0\n",
            "  Found existing installation: scipy 1.2.1\n",
            "    Uninstalling scipy-1.2.1:\n",
            "      Successfully uninstalled scipy-1.2.1\n",
            "Successfully installed magenta-gpu-1.1.1 networkx-1.8.1 pygtrie-2.3 python-rtmidi-1.1.2 scipy-1.2.0 sk-video-1.1.10 sonnet-0.1.6 sox-1.3.7 tensorflow-datasets-1.0.2 tensorflow-gpu-1.13.1\n"
          ],
          "name": "stdout"
        }
      ]
    },
    {
      "cell_type": "code",
      "metadata": {
        "id": "2CttW8am1nOm",
        "colab_type": "code",
        "outputId": "0f01ea55-5733-47fb-ac8d-a616b97565b0",
        "colab": {
          "base_uri": "https://localhost:8080/",
          "height": 139
        }
      },
      "source": [
        "!git clone https://github.com/tensorflow/magenta.git"
      ],
      "execution_count": 0,
      "outputs": [
        {
          "output_type": "stream",
          "text": [
            "Cloning into 'magenta'...\n",
            "remote: Enumerating objects: 12, done.\u001b[K\n",
            "remote: Counting objects: 100% (12/12), done.\u001b[K\n",
            "remote: Compressing objects: 100% (12/12), done.\u001b[K\n",
            "remote: Total 10699 (delta 4), reused 8 (delta 0), pack-reused 10687\u001b[K\n",
            "Receiving objects: 100% (10699/10699), 30.80 MiB | 20.97 MiB/s, done.\n",
            "Resolving deltas: 100% (7674/7674), done.\n"
          ],
          "name": "stdout"
        }
      ]
    },
    {
      "cell_type": "code",
      "metadata": {
        "id": "YLSD-f4a1m3A",
        "colab_type": "code",
        "outputId": "695e2085-c1b7-40d4-fd69-ec2a9eee6201",
        "colab": {
          "base_uri": "https://localhost:8080/",
          "height": 34
        }
      },
      "source": [
        "%cd magenta\n",
        "!mkdir data\n",
        "%cd data\n",
        "!curl http://download.magenta.tensorflow.org/models/attention_rnn.mag > attention_rnn.mag"
      ],
      "execution_count": 0,
      "outputs": [
        {
          "output_type": "stream",
          "text": [
            "/content/magenta\n"
          ],
          "name": "stdout"
        }
      ]
    },
    {
      "cell_type": "code",
      "metadata": {
        "id": "bertv95j1mEz",
        "colab_type": "code",
        "outputId": "e587902b-f36f-4303-df34-2927c912a7d1",
        "colab": {
          "base_uri": "https://localhost:8080/",
          "height": 1947
        }
      },
      "source": [
        "%cd /content/magenta\n",
        "!pip install -e ."
      ],
      "execution_count": 0,
      "outputs": [
        {
          "output_type": "stream",
          "text": [
            "Obtaining file:///content/magenta\n",
            "Requirement already satisfied: IPython in /usr/local/lib/python3.6/dist-packages (from magenta==1.1.0) (5.5.0)\n",
            "Requirement already satisfied: absl-py in /usr/local/lib/python3.6/dist-packages (from magenta==1.1.0) (0.7.1)\n",
            "Requirement already satisfied: Pillow>=3.4.2 in /usr/local/lib/python3.6/dist-packages (from magenta==1.1.0) (4.3.0)\n",
            "Requirement already satisfied: backports.tempfile in /usr/local/lib/python3.6/dist-packages (from magenta==1.1.0) (1.0)\n",
            "Requirement already satisfied: bokeh>=0.12.0 in /usr/local/lib/python3.6/dist-packages (from magenta==1.1.0) (1.0.4)\n",
            "Requirement already satisfied: intervaltree>=2.1.0 in /usr/local/lib/python3.6/dist-packages (from magenta==1.1.0) (2.1.0)\n",
            "Requirement already satisfied: joblib>=0.12 in /usr/local/lib/python3.6/dist-packages (from magenta==1.1.0) (0.12.5)\n",
            "Requirement already satisfied: librosa>=0.6.2 in /usr/local/lib/python3.6/dist-packages (from magenta==1.1.0) (0.6.3)\n",
            "Requirement already satisfied: matplotlib>=1.5.3 in /usr/local/lib/python3.6/dist-packages (from magenta==1.1.0) (3.0.3)\n",
            "Requirement already satisfied: mido==1.2.6 in /usr/local/lib/python3.6/dist-packages (from magenta==1.1.0) (1.2.6)\n",
            "Requirement already satisfied: mir_eval>=0.4 in /usr/local/lib/python3.6/dist-packages (from magenta==1.1.0) (0.5)\n",
            "Requirement already satisfied: numpy>=1.14.6 in /usr/local/lib/python3.6/dist-packages (from magenta==1.1.0) (1.16.3)\n",
            "Requirement already satisfied: pandas>=0.18.1 in /usr/local/lib/python3.6/dist-packages (from magenta==1.1.0) (0.24.2)\n",
            "Requirement already satisfied: pretty_midi>=0.2.6 in /usr/local/lib/python3.6/dist-packages (from magenta==1.1.0) (0.2.8)\n",
            "Requirement already satisfied: protobuf>=3.6.1 in /usr/local/lib/python3.6/dist-packages (from magenta==1.1.0) (3.7.1)\n",
            "Requirement already satisfied: pygtrie>=2.3 in /usr/local/lib/python3.6/dist-packages (from magenta==1.1.0) (2.3)\n",
            "Requirement already satisfied: python-rtmidi<1.2,>=1.1 in /usr/local/lib/python3.6/dist-packages (from magenta==1.1.0) (1.1.2)\n",
            "Requirement already satisfied: scipy<=1.2.0,>=0.18.1 in /usr/local/lib/python3.6/dist-packages (from magenta==1.1.0) (1.2.0)\n",
            "Requirement already satisfied: sk-video in /usr/local/lib/python3.6/dist-packages (from magenta==1.1.0) (1.1.10)\n",
            "Requirement already satisfied: sonnet in /usr/local/lib/python3.6/dist-packages (from magenta==1.1.0) (0.1.6)\n",
            "Requirement already satisfied: sox>=1.3.7 in /usr/local/lib/python3.6/dist-packages (from magenta==1.1.0) (1.3.7)\n",
            "Requirement already satisfied: tensorflow-datasets>=1.0.2 in /usr/local/lib/python3.6/dist-packages (from magenta==1.1.0) (1.0.2)\n",
            "Requirement already satisfied: tensorflow-probability>=0.5.0 in /usr/local/lib/python3.6/dist-packages (from magenta==1.1.0) (0.6.0)\n",
            "Requirement already satisfied: tensor2tensor>=1.10.0 in /usr/local/lib/python3.6/dist-packages (from magenta==1.1.0) (1.11.0)\n",
            "Requirement already satisfied: wheel in /usr/local/lib/python3.6/dist-packages (from magenta==1.1.0) (0.33.1)\n",
            "Requirement already satisfied: tensorflow>=1.12.0 in /usr/local/lib/python3.6/dist-packages (from magenta==1.1.0) (1.13.1)\n",
            "Requirement already satisfied: setuptools>=18.5 in /usr/local/lib/python3.6/dist-packages (from IPython->magenta==1.1.0) (41.0.1)\n",
            "Requirement already satisfied: pexpect; sys_platform != \"win32\" in /usr/local/lib/python3.6/dist-packages (from IPython->magenta==1.1.0) (4.7.0)\n",
            "Requirement already satisfied: prompt-toolkit<2.0.0,>=1.0.4 in /usr/local/lib/python3.6/dist-packages (from IPython->magenta==1.1.0) (1.0.16)\n",
            "Requirement already satisfied: decorator in /usr/local/lib/python3.6/dist-packages (from IPython->magenta==1.1.0) (4.4.0)\n",
            "Requirement already satisfied: pygments in /usr/local/lib/python3.6/dist-packages (from IPython->magenta==1.1.0) (2.1.3)\n",
            "Requirement already satisfied: pickleshare in /usr/local/lib/python3.6/dist-packages (from IPython->magenta==1.1.0) (0.7.5)\n",
            "Requirement already satisfied: traitlets>=4.2 in /usr/local/lib/python3.6/dist-packages (from IPython->magenta==1.1.0) (4.3.2)\n",
            "Requirement already satisfied: simplegeneric>0.8 in /usr/local/lib/python3.6/dist-packages (from IPython->magenta==1.1.0) (0.8.1)\n",
            "Requirement already satisfied: six in /usr/local/lib/python3.6/dist-packages (from absl-py->magenta==1.1.0) (1.12.0)\n",
            "Requirement already satisfied: olefile in /usr/local/lib/python3.6/dist-packages (from Pillow>=3.4.2->magenta==1.1.0) (0.46)\n",
            "Requirement already satisfied: backports.weakref in /usr/local/lib/python3.6/dist-packages (from backports.tempfile->magenta==1.1.0) (1.0.post1)\n",
            "Requirement already satisfied: packaging>=16.8 in /usr/local/lib/python3.6/dist-packages (from bokeh>=0.12.0->magenta==1.1.0) (19.0)\n",
            "Requirement already satisfied: tornado>=4.3 in /usr/local/lib/python3.6/dist-packages (from bokeh>=0.12.0->magenta==1.1.0) (4.5.3)\n",
            "Requirement already satisfied: python-dateutil>=2.1 in /usr/local/lib/python3.6/dist-packages (from bokeh>=0.12.0->magenta==1.1.0) (2.5.3)\n",
            "Requirement already satisfied: Jinja2>=2.7 in /usr/local/lib/python3.6/dist-packages (from bokeh>=0.12.0->magenta==1.1.0) (2.10.1)\n",
            "Requirement already satisfied: PyYAML>=3.10 in /usr/local/lib/python3.6/dist-packages (from bokeh>=0.12.0->magenta==1.1.0) (3.13)\n",
            "Requirement already satisfied: sortedcontainers in /usr/local/lib/python3.6/dist-packages (from intervaltree>=2.1.0->magenta==1.1.0) (2.1.0)\n",
            "Requirement already satisfied: numba>=0.38.0 in /usr/local/lib/python3.6/dist-packages (from librosa>=0.6.2->magenta==1.1.0) (0.40.1)\n",
            "Requirement already satisfied: scikit-learn!=0.19.0,>=0.14.0 in /usr/local/lib/python3.6/dist-packages (from librosa>=0.6.2->magenta==1.1.0) (0.20.3)\n",
            "Requirement already satisfied: audioread>=2.0.0 in /usr/local/lib/python3.6/dist-packages (from librosa>=0.6.2->magenta==1.1.0) (2.1.6)\n",
            "Requirement already satisfied: resampy>=0.2.0 in /usr/local/lib/python3.6/dist-packages (from librosa>=0.6.2->magenta==1.1.0) (0.2.1)\n",
            "Requirement already satisfied: pyparsing!=2.0.4,!=2.1.2,!=2.1.6,>=2.0.1 in /usr/local/lib/python3.6/dist-packages (from matplotlib>=1.5.3->magenta==1.1.0) (2.4.0)\n",
            "Requirement already satisfied: cycler>=0.10 in /usr/local/lib/python3.6/dist-packages (from matplotlib>=1.5.3->magenta==1.1.0) (0.10.0)\n",
            "Requirement already satisfied: kiwisolver>=1.0.1 in /usr/local/lib/python3.6/dist-packages (from matplotlib>=1.5.3->magenta==1.1.0) (1.1.0)\n",
            "Requirement already satisfied: future in /usr/local/lib/python3.6/dist-packages (from mir_eval>=0.4->magenta==1.1.0) (0.16.0)\n",
            "Requirement already satisfied: pytz>=2011k in /usr/local/lib/python3.6/dist-packages (from pandas>=0.18.1->magenta==1.1.0) (2018.9)\n",
            "Requirement already satisfied: networkx==1.8.1 in /usr/local/lib/python3.6/dist-packages (from sonnet->magenta==1.1.0) (1.8.1)\n",
            "Requirement already satisfied: tensorflow-metadata in /usr/local/lib/python3.6/dist-packages (from tensorflow-datasets>=1.0.2->magenta==1.1.0) (0.13.0)\n",
            "Requirement already satisfied: promise in /usr/local/lib/python3.6/dist-packages (from tensorflow-datasets>=1.0.2->magenta==1.1.0) (2.2.1)\n",
            "Requirement already satisfied: psutil in /usr/local/lib/python3.6/dist-packages (from tensorflow-datasets>=1.0.2->magenta==1.1.0) (5.4.8)\n",
            "Requirement already satisfied: wrapt in /usr/local/lib/python3.6/dist-packages (from tensorflow-datasets>=1.0.2->magenta==1.1.0) (1.10.11)\n",
            "Requirement already satisfied: termcolor in /usr/local/lib/python3.6/dist-packages (from tensorflow-datasets>=1.0.2->magenta==1.1.0) (1.1.0)\n",
            "Requirement already satisfied: tqdm in /usr/local/lib/python3.6/dist-packages (from tensorflow-datasets>=1.0.2->magenta==1.1.0) (4.28.1)\n",
            "Requirement already satisfied: requests in /usr/local/lib/python3.6/dist-packages (from tensorflow-datasets>=1.0.2->magenta==1.1.0) (2.21.0)\n",
            "Requirement already satisfied: dill in /usr/local/lib/python3.6/dist-packages (from tensorflow-datasets>=1.0.2->magenta==1.1.0) (0.2.9)\n",
            "Requirement already satisfied: sympy in /usr/local/lib/python3.6/dist-packages (from tensor2tensor>=1.10.0->magenta==1.1.0) (1.1.1)\n",
            "Requirement already satisfied: google-api-python-client in /usr/local/lib/python3.6/dist-packages (from tensor2tensor>=1.10.0->magenta==1.1.0) (1.6.7)\n",
            "Requirement already satisfied: tfds-nightly in /usr/local/lib/python3.6/dist-packages (from tensor2tensor>=1.10.0->magenta==1.1.0) (1.0.2.dev201905010105)\n",
            "Requirement already satisfied: gym in /usr/local/lib/python3.6/dist-packages (from tensor2tensor>=1.10.0->magenta==1.1.0) (0.10.11)\n",
            "Requirement already satisfied: flask in /usr/local/lib/python3.6/dist-packages (from tensor2tensor>=1.10.0->magenta==1.1.0) (1.0.2)\n",
            "Requirement already satisfied: gunicorn in /usr/local/lib/python3.6/dist-packages (from tensor2tensor>=1.10.0->magenta==1.1.0) (19.9.0)\n",
            "Requirement already satisfied: gevent in /usr/local/lib/python3.6/dist-packages (from tensor2tensor>=1.10.0->magenta==1.1.0) (1.4.0)\n",
            "Requirement already satisfied: mesh-tensorflow in /usr/local/lib/python3.6/dist-packages (from tensor2tensor>=1.10.0->magenta==1.1.0) (0.0.5)\n",
            "Requirement already satisfied: oauth2client in /usr/local/lib/python3.6/dist-packages (from tensor2tensor>=1.10.0->magenta==1.1.0) (4.1.3)\n",
            "Requirement already satisfied: h5py in /usr/local/lib/python3.6/dist-packages (from tensor2tensor>=1.10.0->magenta==1.1.0) (2.8.0)\n",
            "Requirement already satisfied: bz2file in /usr/local/lib/python3.6/dist-packages (from tensor2tensor>=1.10.0->magenta==1.1.0) (0.98)\n",
            "Requirement already satisfied: gast>=0.2.0 in /usr/local/lib/python3.6/dist-packages (from tensorflow>=1.12.0->magenta==1.1.0) (0.2.2)\n",
            "Requirement already satisfied: grpcio>=1.8.6 in /usr/local/lib/python3.6/dist-packages (from tensorflow>=1.12.0->magenta==1.1.0) (1.15.0)\n",
            "Requirement already satisfied: astor>=0.6.0 in /usr/local/lib/python3.6/dist-packages (from tensorflow>=1.12.0->magenta==1.1.0) (0.7.1)\n",
            "Requirement already satisfied: keras-preprocessing>=1.0.5 in /usr/local/lib/python3.6/dist-packages (from tensorflow>=1.12.0->magenta==1.1.0) (1.0.9)\n",
            "Requirement already satisfied: tensorboard<1.14.0,>=1.13.0 in /usr/local/lib/python3.6/dist-packages (from tensorflow>=1.12.0->magenta==1.1.0) (1.13.1)\n",
            "Requirement already satisfied: tensorflow-estimator<1.14.0rc0,>=1.13.0 in /usr/local/lib/python3.6/dist-packages (from tensorflow>=1.12.0->magenta==1.1.0) (1.13.0)\n",
            "Requirement already satisfied: keras-applications>=1.0.6 in /usr/local/lib/python3.6/dist-packages (from tensorflow>=1.12.0->magenta==1.1.0) (1.0.7)\n",
            "Requirement already satisfied: ptyprocess>=0.5 in /usr/local/lib/python3.6/dist-packages (from pexpect; sys_platform != \"win32\"->IPython->magenta==1.1.0) (0.6.0)\n",
            "Requirement already satisfied: wcwidth in /usr/local/lib/python3.6/dist-packages (from prompt-toolkit<2.0.0,>=1.0.4->IPython->magenta==1.1.0) (0.1.7)\n",
            "Requirement already satisfied: ipython-genutils in /usr/local/lib/python3.6/dist-packages (from traitlets>=4.2->IPython->magenta==1.1.0) (0.2.0)\n",
            "Requirement already satisfied: MarkupSafe>=0.23 in /usr/local/lib/python3.6/dist-packages (from Jinja2>=2.7->bokeh>=0.12.0->magenta==1.1.0) (1.1.1)\n",
            "Requirement already satisfied: llvmlite>=0.25.0dev0 in /usr/local/lib/python3.6/dist-packages (from numba>=0.38.0->librosa>=0.6.2->magenta==1.1.0) (0.28.0)\n",
            "Requirement already satisfied: googleapis-common-protos in /usr/local/lib/python3.6/dist-packages (from tensorflow-metadata->tensorflow-datasets>=1.0.2->magenta==1.1.0) (1.5.10)\n",
            "Requirement already satisfied: idna<2.9,>=2.5 in /usr/local/lib/python3.6/dist-packages (from requests->tensorflow-datasets>=1.0.2->magenta==1.1.0) (2.8)\n",
            "Requirement already satisfied: urllib3<1.25,>=1.21.1 in /usr/local/lib/python3.6/dist-packages (from requests->tensorflow-datasets>=1.0.2->magenta==1.1.0) (1.24.2)\n",
            "Requirement already satisfied: certifi>=2017.4.17 in /usr/local/lib/python3.6/dist-packages (from requests->tensorflow-datasets>=1.0.2->magenta==1.1.0) (2019.3.9)\n",
            "Requirement already satisfied: chardet<3.1.0,>=3.0.2 in /usr/local/lib/python3.6/dist-packages (from requests->tensorflow-datasets>=1.0.2->magenta==1.1.0) (3.0.4)\n",
            "Requirement already satisfied: mpmath>=0.19 in /usr/local/lib/python3.6/dist-packages (from sympy->tensor2tensor>=1.10.0->magenta==1.1.0) (1.1.0)\n",
            "Requirement already satisfied: httplib2<1dev,>=0.9.2 in /usr/local/lib/python3.6/dist-packages (from google-api-python-client->tensor2tensor>=1.10.0->magenta==1.1.0) (0.11.3)\n",
            "Requirement already satisfied: uritemplate<4dev,>=3.0.0 in /usr/local/lib/python3.6/dist-packages (from google-api-python-client->tensor2tensor>=1.10.0->magenta==1.1.0) (3.0.0)\n",
            "Requirement already satisfied: pyglet>=1.2.0 in /usr/local/lib/python3.6/dist-packages (from gym->tensor2tensor>=1.10.0->magenta==1.1.0) (1.3.2)\n",
            "Requirement already satisfied: itsdangerous>=0.24 in /usr/local/lib/python3.6/dist-packages (from flask->tensor2tensor>=1.10.0->magenta==1.1.0) (1.1.0)\n",
            "Requirement already satisfied: Werkzeug>=0.14 in /usr/local/lib/python3.6/dist-packages (from flask->tensor2tensor>=1.10.0->magenta==1.1.0) (0.15.2)\n",
            "Requirement already satisfied: click>=5.1 in /usr/local/lib/python3.6/dist-packages (from flask->tensor2tensor>=1.10.0->magenta==1.1.0) (7.0)\n",
            "Requirement already satisfied: greenlet>=0.4.14; platform_python_implementation == \"CPython\" in /usr/local/lib/python3.6/dist-packages (from gevent->tensor2tensor>=1.10.0->magenta==1.1.0) (0.4.15)\n",
            "Requirement already satisfied: pyasn1>=0.1.7 in /usr/local/lib/python3.6/dist-packages (from oauth2client->tensor2tensor>=1.10.0->magenta==1.1.0) (0.4.5)\n",
            "Requirement already satisfied: rsa>=3.1.4 in /usr/local/lib/python3.6/dist-packages (from oauth2client->tensor2tensor>=1.10.0->magenta==1.1.0) (4.0)\n",
            "Requirement already satisfied: pyasn1-modules>=0.0.5 in /usr/local/lib/python3.6/dist-packages (from oauth2client->tensor2tensor>=1.10.0->magenta==1.1.0) (0.2.5)\n",
            "Requirement already satisfied: markdown>=2.6.8 in /usr/local/lib/python3.6/dist-packages (from tensorboard<1.14.0,>=1.13.0->tensorflow>=1.12.0->magenta==1.1.0) (3.1)\n",
            "Requirement already satisfied: mock>=2.0.0 in /usr/local/lib/python3.6/dist-packages (from tensorflow-estimator<1.14.0rc0,>=1.13.0->tensorflow>=1.12.0->magenta==1.1.0) (2.0.0)\n",
            "Requirement already satisfied: pbr>=0.11 in /usr/local/lib/python3.6/dist-packages (from mock>=2.0.0->tensorflow-estimator<1.14.0rc0,>=1.13.0->tensorflow>=1.12.0->magenta==1.1.0) (5.2.0)\n",
            "Installing collected packages: magenta\n",
            "  Found existing installation: magenta 0.3.19\n",
            "    Uninstalling magenta-0.3.19:\n",
            "      Successfully uninstalled magenta-0.3.19\n",
            "  Running setup.py develop for magenta\n",
            "Successfully installed magenta\n"
          ],
          "name": "stdout"
        }
      ]
    },
    {
      "cell_type": "code",
      "metadata": {
        "id": "mhTftrH171v_",
        "colab_type": "code",
        "outputId": "00659cec-7434-40b2-f705-ad68e16a1a9a",
        "colab": {
          "base_uri": "https://localhost:8080/",
          "height": 34
        }
      },
      "source": [
        "!mkdir tmp\n",
        "%cd tmp\n",
        "!mkdir melody_rnn\n",
        "%cd melody_rnn\n",
        "!mkdir generated\n",
        "%cd /content/magenta"
      ],
      "execution_count": 0,
      "outputs": [
        {
          "output_type": "stream",
          "text": [
            "/content/magenta\n"
          ],
          "name": "stdout"
        }
      ]
    },
    {
      "cell_type": "code",
      "metadata": {
        "id": "fN2hg4TO9wNz",
        "colab_type": "code",
        "colab": {}
      },
      "source": [
        "!rm /content/magenta/tmp/melody_rnn/generated/*"
      ],
      "execution_count": 0,
      "outputs": []
    },
    {
      "cell_type": "markdown",
      "metadata": {
        "id": "sHd_tOVY_x95",
        "colab_type": "text"
      },
      "source": [
        "## TESTING melody rnn\n",
        "### with simple E"
      ]
    },
    {
      "cell_type": "code",
      "metadata": {
        "id": "wdx0zXJ91l5H",
        "colab_type": "code",
        "outputId": "bc0ba5c9-09fd-4823-b287-5a563cb76a04",
        "colab": {
          "base_uri": "https://localhost:8080/",
          "height": 662
        }
      },
      "source": [
        "# https://github.com/tensorflow/magenta/tree/master/magenta/models/melody_rnn\n",
        "\n",
        "!melody_rnn_generate \\\n",
        "--config=attention_rnn \\\n",
        "--bundle_file=/content/magenta/data/attention_rnn.mag \\\n",
        "--output_dir=/content/magenta/tmp/melody_rnn/generated \\\n",
        "--num_outputs=10 \\\n",
        "--num_steps=128 \\\n",
        "--primer_melody=\"[60]\""
      ],
      "execution_count": 1,
      "outputs": [
        {
          "output_type": "stream",
          "text": [
            "\n",
            "WARNING: The TensorFlow contrib module will not be included in TensorFlow 2.0.\n",
            "For more information, please see:\n",
            "  * https://github.com/tensorflow/community/blob/master/rfcs/20180907-contrib-sunset.md\n",
            "  * https://github.com/tensorflow/addons\n",
            "If you depend on functionality not listed there, please file an issue.\n",
            "\n",
            "2019-05-03 18:39:53.779747: I tensorflow/core/platform/cpu_feature_guard.cc:141] Your CPU supports instructions that this TensorFlow binary was not compiled to use: AVX2 FMA\n",
            "2019-05-03 18:39:53.785786: E tensorflow/stream_executor/cuda/cuda_driver.cc:300] failed call to cuInit: CUDA_ERROR_NO_DEVICE: no CUDA-capable device is detected\n",
            "2019-05-03 18:39:53.785837: I tensorflow/stream_executor/cuda/cuda_diagnostics.cc:148] kernel driver does not appear to be running on this host (33a22c3caf27): /proc/driver/nvidia/version does not exist\n",
            "2019-05-03 18:39:53.787525: I tensorflow/core/platform/profile_utils/cpu_utils.cc:94] CPU Frequency: 2200000000 Hz\n",
            "2019-05-03 18:39:53.787910: I tensorflow/compiler/xla/service/service.cc:150] XLA service 0x3837fa0 executing computations on platform Host. Devices:\n",
            "2019-05-03 18:39:53.787950: I tensorflow/compiler/xla/service/service.cc:158]   StreamExecutor device (0): <undefined>, <undefined>\n",
            "2019-05-03 18:39:53.807757: W tensorflow/core/framework/op_def_util.cc:355] Op TensorArray is deprecated. It will cease to work in GraphDef version 16. Use TensorArrayV3.\n",
            "2019-05-03 18:39:53.808067: W tensorflow/core/framework/op_def_util.cc:355] Op TensorArrayScatter is deprecated. It will cease to work in GraphDef version 19. Use TensorArrayGradV3.\n",
            "2019-05-03 18:39:53.808339: W tensorflow/core/framework/op_def_util.cc:355] Op TensorArrayRead is deprecated. It will cease to work in GraphDef version 16. Use TensorArrayReadV3.\n",
            "2019-05-03 18:39:53.810748: W tensorflow/core/framework/op_def_util.cc:355] Op TensorArrayWrite is deprecated. It will cease to work in GraphDef version 16. Use TensorArrayWriteV3.\n",
            "2019-05-03 18:39:53.810910: W tensorflow/core/framework/op_def_util.cc:355] Op TensorArraySize is deprecated. It will cease to work in GraphDef version 16. Use TensorArraySizeV3.\n",
            "2019-05-03 18:39:53.811012: W tensorflow/core/framework/op_def_util.cc:355] Op TensorArrayGather is deprecated. It will cease to work in GraphDef version 16. Use TensorArrayGatherV3.\n",
            "WARNING:tensorflow:The saved meta_graph is possibly from an older release:\n",
            "'model_variables' collection should be of type 'byte_list', but instead is of type 'node_list'.\n",
            "WARNING:tensorflow:From /usr/local/lib/python3.6/dist-packages/tensorflow/python/training/saver.py:1266: checkpoint_exists (from tensorflow.python.training.checkpoint_management) is deprecated and will be removed in a future version.\n",
            "Instructions for updating:\n",
            "Use standard file APIs to check for files with this prefix.\n",
            "INFO:tensorflow:Restoring parameters from /tmp/tmpd6fdgr84/model.ckpt\n",
            "INFO:tensorflow:Beam search yields sequence with log-likelihood: -35.104500 \n",
            "INFO:tensorflow:Beam search yields sequence with log-likelihood: -69.388107 \n",
            "INFO:tensorflow:Beam search yields sequence with log-likelihood: -100.974297 \n",
            "INFO:tensorflow:Beam search yields sequence with log-likelihood: -127.393814 \n",
            "INFO:tensorflow:Beam search yields sequence with log-likelihood: -109.834068 \n",
            "INFO:tensorflow:Beam search yields sequence with log-likelihood: -88.072586 \n",
            "INFO:tensorflow:Beam search yields sequence with log-likelihood: -104.133789 \n",
            "INFO:tensorflow:Beam search yields sequence with log-likelihood: -128.027832 \n",
            "INFO:tensorflow:Beam search yields sequence with log-likelihood: -96.919350 \n",
            "INFO:tensorflow:Beam search yields sequence with log-likelihood: -165.040009 \n",
            "INFO:tensorflow:Wrote 10 MIDI files to /content/magenta/tmp/melody_rnn/generated\n"
          ],
          "name": "stdout"
        }
      ]
    },
    {
      "cell_type": "markdown",
      "metadata": {
        "id": "5W8MYswSABwX",
        "colab_type": "text"
      },
      "source": [
        "### Using a midi file like input"
      ]
    },
    {
      "cell_type": "code",
      "metadata": {
        "id": "LxRgI4NZ1ltH",
        "colab_type": "code",
        "outputId": "64af8895-0a59-4188-ed21-00c5612d20b1",
        "colab": {
          "base_uri": "https://localhost:8080/",
          "height": 34
        }
      },
      "source": [
        "!curl http://download.magenta.tensorflow.org/models/attention_rnn.mag > /content/magenta/data/"
      ],
      "execution_count": 0,
      "outputs": [
        {
          "output_type": "stream",
          "text": [
            "/content/magenta/data\n"
          ],
          "name": "stdout"
        }
      ]
    },
    {
      "cell_type": "code",
      "metadata": {
        "id": "kOgyZx6H1lkZ",
        "colab_type": "code",
        "colab": {
          "base_uri": "https://localhost:8080/",
          "height": 662
        },
        "outputId": "fd8f74f8-ae6a-496f-850f-bbb117573c8b"
      },
      "source": [
        "!rm /content/magenta/tmp/melody_rnn/generated/*\n",
        "!melody_rnn_generate \\\n",
        "--config=attention_rnn \\\n",
        "--bundle_file=/content/magenta/data/attention_rnn.mag \\\n",
        "--output_dir=/content/magenta/tmp/melody_rnn/generated \\\n",
        "--num_outputs=10 \\\n",
        "--num_steps=128 \\\n",
        "--primer_midi=/content/magenta/magenta/testdata/example.mid"
      ],
      "execution_count": 2,
      "outputs": [
        {
          "output_type": "stream",
          "text": [
            "\n",
            "WARNING: The TensorFlow contrib module will not be included in TensorFlow 2.0.\n",
            "For more information, please see:\n",
            "  * https://github.com/tensorflow/community/blob/master/rfcs/20180907-contrib-sunset.md\n",
            "  * https://github.com/tensorflow/addons\n",
            "If you depend on functionality not listed there, please file an issue.\n",
            "\n",
            "2019-05-03 18:49:34.505839: I tensorflow/core/platform/cpu_feature_guard.cc:141] Your CPU supports instructions that this TensorFlow binary was not compiled to use: AVX2 FMA\n",
            "2019-05-03 18:49:34.511773: E tensorflow/stream_executor/cuda/cuda_driver.cc:300] failed call to cuInit: CUDA_ERROR_NO_DEVICE: no CUDA-capable device is detected\n",
            "2019-05-03 18:49:34.511849: I tensorflow/stream_executor/cuda/cuda_diagnostics.cc:148] kernel driver does not appear to be running on this host (33a22c3caf27): /proc/driver/nvidia/version does not exist\n",
            "2019-05-03 18:49:34.514027: I tensorflow/core/platform/profile_utils/cpu_utils.cc:94] CPU Frequency: 2200000000 Hz\n",
            "2019-05-03 18:49:34.514487: I tensorflow/compiler/xla/service/service.cc:150] XLA service 0x2957fa0 executing computations on platform Host. Devices:\n",
            "2019-05-03 18:49:34.514528: I tensorflow/compiler/xla/service/service.cc:158]   StreamExecutor device (0): <undefined>, <undefined>\n",
            "2019-05-03 18:49:34.534300: W tensorflow/core/framework/op_def_util.cc:355] Op TensorArray is deprecated. It will cease to work in GraphDef version 16. Use TensorArrayV3.\n",
            "2019-05-03 18:49:34.534572: W tensorflow/core/framework/op_def_util.cc:355] Op TensorArrayScatter is deprecated. It will cease to work in GraphDef version 19. Use TensorArrayGradV3.\n",
            "2019-05-03 18:49:34.534834: W tensorflow/core/framework/op_def_util.cc:355] Op TensorArrayRead is deprecated. It will cease to work in GraphDef version 16. Use TensorArrayReadV3.\n",
            "2019-05-03 18:49:34.537147: W tensorflow/core/framework/op_def_util.cc:355] Op TensorArrayWrite is deprecated. It will cease to work in GraphDef version 16. Use TensorArrayWriteV3.\n",
            "2019-05-03 18:49:34.537328: W tensorflow/core/framework/op_def_util.cc:355] Op TensorArraySize is deprecated. It will cease to work in GraphDef version 16. Use TensorArraySizeV3.\n",
            "2019-05-03 18:49:34.537442: W tensorflow/core/framework/op_def_util.cc:355] Op TensorArrayGather is deprecated. It will cease to work in GraphDef version 16. Use TensorArrayGatherV3.\n",
            "WARNING:tensorflow:The saved meta_graph is possibly from an older release:\n",
            "'model_variables' collection should be of type 'byte_list', but instead is of type 'node_list'.\n",
            "WARNING:tensorflow:From /usr/local/lib/python3.6/dist-packages/tensorflow/python/training/saver.py:1266: checkpoint_exists (from tensorflow.python.training.checkpoint_management) is deprecated and will be removed in a future version.\n",
            "Instructions for updating:\n",
            "Use standard file APIs to check for files with this prefix.\n",
            "INFO:tensorflow:Restoring parameters from /tmp/tmp7iwmdh39/model.ckpt\n",
            "INFO:tensorflow:Beam search yields sequence with log-likelihood: -80.009819 \n",
            "INFO:tensorflow:Beam search yields sequence with log-likelihood: -48.229427 \n",
            "INFO:tensorflow:Beam search yields sequence with log-likelihood: -67.864990 \n",
            "INFO:tensorflow:Beam search yields sequence with log-likelihood: -68.641541 \n",
            "INFO:tensorflow:Beam search yields sequence with log-likelihood: -59.231201 \n",
            "INFO:tensorflow:Beam search yields sequence with log-likelihood: -61.854027 \n",
            "INFO:tensorflow:Beam search yields sequence with log-likelihood: -95.197166 \n",
            "INFO:tensorflow:Beam search yields sequence with log-likelihood: -61.356178 \n",
            "INFO:tensorflow:Beam search yields sequence with log-likelihood: -82.589569 \n",
            "INFO:tensorflow:Beam search yields sequence with log-likelihood: -54.898491 \n",
            "INFO:tensorflow:Wrote 10 MIDI files to /content/magenta/tmp/melody_rnn/generated\n"
          ],
          "name": "stdout"
        }
      ]
    },
    {
      "cell_type": "code",
      "metadata": {
        "id": "Nsmrt-oa1lcd",
        "colab_type": "code",
        "colab": {
          "base_uri": "https://localhost:8080/",
          "height": 69
        },
        "outputId": "fd166d4f-19d2-4d42-a629-17f84e1b73c1"
      },
      "source": [
        "!curl http://www.midiworld.com/download/147 > /content/magenta/data/song1.mid"
      ],
      "execution_count": 5,
      "outputs": [
        {
          "output_type": "stream",
          "text": [
            "  % Total    % Received % Xferd  Average Speed   Time    Time     Time  Current\n",
            "                                 Dload  Upload   Total   Spent    Left  Speed\n",
            "\r  0     0    0     0    0     0      0      0 --:--:-- --:--:-- --:--:--     0\r 76 10812   76  8240    0     0  27375      0 --:--:-- --:--:-- --:--:-- 27284\r100 10812  100 10812    0     0  35920      0 --:--:-- --:--:-- --:--:-- 35801\n"
          ],
          "name": "stdout"
        }
      ]
    },
    {
      "cell_type": "code",
      "metadata": {
        "id": "-ESMlKkC1lV2",
        "colab_type": "code",
        "colab": {
          "base_uri": "https://localhost:8080/",
          "height": 176
        },
        "outputId": "14811ea8-b482-4cb5-8a00-bd81b2ad3367"
      },
      "source": [
        "!rm /content/magenta/tmp/melody_rnn/generated/*\n",
        "!melody_rnn_generate \\\n",
        "--config=attention_rnn \\\n",
        "--bundle_file=/content/magenta/data/attention_rnn.mag \\\n",
        "--output_dir=/content/magenta/tmp/melody_rnn/generated \\\n",
        "--num_outputs=10 \\\n",
        "--num_steps=128 \\\n",
        "--primer_midi=/content/magenta/data/song1.mid"
      ],
      "execution_count": 6,
      "outputs": [
        {
          "output_type": "stream",
          "text": [
            "\n",
            "WARNING: The TensorFlow contrib module will not be included in TensorFlow 2.0.\n",
            "For more information, please see:\n",
            "  * https://github.com/tensorflow/community/blob/master/rfcs/20180907-contrib-sunset.md\n",
            "  * https://github.com/tensorflow/addons\n",
            "If you depend on functionality not listed there, please file an issue.\n",
            "\n",
            "CRITICAL:tensorflow:Priming sequence is longer than the total number of steps requested: Priming sequence length: 184.72935226041668, Generation length requested: 15.118112\n"
          ],
          "name": "stdout"
        }
      ]
    },
    {
      "cell_type": "code",
      "metadata": {
        "id": "ULRorFKS1lMS",
        "colab_type": "code",
        "colab": {}
      },
      "source": [
        ""
      ],
      "execution_count": 0,
      "outputs": []
    },
    {
      "cell_type": "code",
      "metadata": {
        "id": "Cr1NFsUZ1lB-",
        "colab_type": "code",
        "colab": {}
      },
      "source": [
        ""
      ],
      "execution_count": 0,
      "outputs": []
    },
    {
      "cell_type": "code",
      "metadata": {
        "id": "fHMVIxY71k11",
        "colab_type": "code",
        "colab": {}
      },
      "source": [
        ""
      ],
      "execution_count": 0,
      "outputs": []
    },
    {
      "cell_type": "code",
      "metadata": {
        "id": "k7-Cx7Rt1ktk",
        "colab_type": "code",
        "colab": {}
      },
      "source": [
        ""
      ],
      "execution_count": 0,
      "outputs": []
    },
    {
      "cell_type": "code",
      "metadata": {
        "id": "Su14Cbb21khf",
        "colab_type": "code",
        "colab": {}
      },
      "source": [
        ""
      ],
      "execution_count": 0,
      "outputs": []
    },
    {
      "cell_type": "code",
      "metadata": {
        "id": "koe1fI7E1kVs",
        "colab_type": "code",
        "colab": {}
      },
      "source": [
        ""
      ],
      "execution_count": 0,
      "outputs": []
    }
  ]
}