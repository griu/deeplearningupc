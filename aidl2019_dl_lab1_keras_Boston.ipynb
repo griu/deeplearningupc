{
  "nbformat": 4,
  "nbformat_minor": 0,
  "metadata": {
    "colab": {
      "name": "aidl2019_dl_lab1_keras.ipynb",
      "version": "0.3.2",
      "provenance": [],
      "collapsed_sections": [],
      "include_colab_link": true
    },
    "kernelspec": {
      "name": "python3",
      "display_name": "Python 3"
    },
    "accelerator": "GPU"
  },
  "cells": [
    {
      "cell_type": "markdown",
      "metadata": {
        "id": "view-in-github",
        "colab_type": "text"
      },
      "source": [
        "<a href=\"https://colab.research.google.com/github/griu/deeplearningupc/blob/master/aidl2019_dl_lab1_keras_Boston.ipynb\" target=\"_parent\"><img src=\"https://colab.research.google.com/assets/colab-badge.svg\" alt=\"Open In Colab\"/></a>"
      ]
    },
    {
      "metadata": {
        "id": "_Tzjuqjp1Xtf",
        "colab_type": "text"
      },
      "cell_type": "markdown",
      "source": [
        "**Notebook by [Victor Campos](https://imatge.upc.edu/web/people/victor-campos) (Barcelona Supercomputing Center 2018)**"
      ]
    },
    {
      "metadata": {
        "id": "QhM7CDlueEPV",
        "colab_type": "code",
        "colab": {
          "base_uri": "https://localhost:8080/",
          "height": 51
        },
        "outputId": "8dbddd0c-40ae-427c-abef-3073543a7eac"
      },
      "cell_type": "code",
      "source": [
        "import numpy as np\n",
        "import matplotlib.pyplot as plt\n",
        "\n",
        "import keras\n",
        "keras.__version__"
      ],
      "execution_count": 1,
      "outputs": [
        {
          "output_type": "stream",
          "text": [
            "Using TensorFlow backend.\n"
          ],
          "name": "stderr"
        },
        {
          "output_type": "execute_result",
          "data": {
            "text/plain": [
              "'2.2.4'"
            ]
          },
          "metadata": {
            "tags": []
          },
          "execution_count": 1
        }
      ]
    },
    {
      "metadata": {
        "id": "WYcjTE9QTIxf",
        "colab_type": "code",
        "colab": {
          "base_uri": "https://localhost:8080/",
          "height": 51
        },
        "outputId": "631726e5-0f97-414f-e8de-93ed930f70fb"
      },
      "cell_type": "code",
      "source": [
        "from keras.datasets import boston_housing\n",
        "\n",
        "(x_train, y_train), (x_test, y_test) = boston_housing.load_data()"
      ],
      "execution_count": 2,
      "outputs": [
        {
          "output_type": "stream",
          "text": [
            "Downloading data from https://s3.amazonaws.com/keras-datasets/boston_housing.npz\n",
            "57344/57026 [==============================] - 0s 2us/step\n"
          ],
          "name": "stdout"
        }
      ]
    },
    {
      "metadata": {
        "id": "o8K4PfureLHs",
        "colab_type": "code",
        "colab": {
          "base_uri": "https://localhost:8080/",
          "height": 51
        },
        "outputId": "9c2fedfe-861b-49f8-db4e-f26884795ba5"
      },
      "cell_type": "code",
      "source": [
        "\n",
        "n_samples = x_train.shape[0]\n",
        "n_samples_test = x_test.shape[0]\n",
        "print('Number of samples:', n_samples)\n",
        "print('Number of samples test:', n_samples_test)\n"
      ],
      "execution_count": 3,
      "outputs": [
        {
          "output_type": "stream",
          "text": [
            "Number of samples: 404\n",
            "Number of samples test: 102\n"
          ],
          "name": "stdout"
        }
      ]
    },
    {
      "metadata": {
        "id": "fBjjUEIbTt-G",
        "colab_type": "code",
        "colab": {
          "base_uri": "https://localhost:8080/",
          "height": 34
        },
        "outputId": "b119fed6-9e4f-403c-da30-857718859b92"
      },
      "cell_type": "code",
      "source": [
        "x_train.shape"
      ],
      "execution_count": 7,
      "outputs": [
        {
          "output_type": "execute_result",
          "data": {
            "text/plain": [
              "(404, 13)"
            ]
          },
          "metadata": {
            "tags": []
          },
          "execution_count": 7
        }
      ]
    },
    {
      "metadata": {
        "id": "P6x3aEZdeOTV",
        "colab_type": "code",
        "colab": {
          "base_uri": "https://localhost:8080/",
          "height": 88
        },
        "outputId": "48b7f7fa-7cd1-4f19-db79-e156375c3559"
      },
      "cell_type": "code",
      "source": [
        "from keras import models\n",
        "from keras import layers\n",
        "\n",
        "model = models.Sequential()\n",
        "model.add(layers.Dense(1, activation=None, input_shape=(13,)))"
      ],
      "execution_count": 8,
      "outputs": [
        {
          "output_type": "stream",
          "text": [
            "WARNING:tensorflow:From /usr/local/lib/python3.6/dist-packages/tensorflow/python/framework/op_def_library.py:263: colocate_with (from tensorflow.python.framework.ops) is deprecated and will be removed in a future version.\n",
            "Instructions for updating:\n",
            "Colocations handled automatically by placer.\n"
          ],
          "name": "stdout"
        }
      ]
    },
    {
      "metadata": {
        "id": "3IoYet0gTFY4",
        "colab_type": "code",
        "colab": {
          "base_uri": "https://localhost:8080/",
          "height": 170
        },
        "outputId": "b2db39c8-ecff-4edb-9f7b-02f121b759aa"
      },
      "cell_type": "code",
      "source": [
        "meanx = x_train.mean(axis=0)\n",
        "stdx = x_train.std(axis=0)\n",
        "print(len(meanx))\n",
        "print(len(stdx))\n",
        "x_train_norm = (x_train - meanx ) / stdx\n",
        "x_test_norm = (x_test - meanx ) / stdx\n",
        "print(x_train_norm.mean(axis=0))\n",
        "print(x_test_norm.mean(axis=0))\n"
      ],
      "execution_count": 14,
      "outputs": [
        {
          "output_type": "stream",
          "text": [
            "13\n",
            "13\n",
            "[-1.01541438e-16  1.09923072e-17  1.74337992e-15 -1.26686340e-16\n",
            " -5.25377321e-15  6.41414864e-15  2.98441140e-16  4.94653823e-16\n",
            "  1.12671149e-17 -1.98136337e-16  2.36686358e-14  5.95679996e-15\n",
            "  6.13920356e-16]\n",
            "[-0.0707286  -0.02435885  0.02358875  0.1500709  -0.11267862  0.12282991\n",
            " -0.07746073  0.13399985  0.0621344   0.06981759 -0.04617659  0.09979472\n",
            " -0.06008184]\n"
          ],
          "name": "stdout"
        }
      ]
    },
    {
      "metadata": {
        "id": "PfkaOHCahHX3",
        "colab_type": "code",
        "colab": {}
      },
      "cell_type": "code",
      "source": [
        "# Graphic display *before* training\n",
        "W, b = [np.asscalar(v) for v in model.layers[0].get_weights()]\n",
        "plt.plot(train_X, train_Y, 'ro', label='Original data')\n",
        "plt.plot(train_X, W * train_X + b, label='Fitted line')\n",
        "plt.legend()\n",
        "plt.show()"
      ],
      "execution_count": 0,
      "outputs": []
    },
    {
      "metadata": {
        "id": "yi4M50zoeYGB",
        "colab_type": "code",
        "colab": {}
      },
      "cell_type": "code",
      "source": [
        "model.compile(optimizer=keras.optimizers.Adam(lr=0.01), \n",
        "              loss='mean_squared_error')"
      ],
      "execution_count": 0,
      "outputs": []
    },
    {
      "metadata": {
        "id": "sLatO_fxehVB",
        "colab_type": "code",
        "colab": {
          "base_uri": "https://localhost:8080/",
          "height": 3505
        },
        "outputId": "00aefa6c-831e-4f32-d899-670644da76b0"
      },
      "cell_type": "code",
      "source": [
        "model.fit(x_train, y_train, epochs=100, batch_size=1)"
      ],
      "execution_count": 10,
      "outputs": [
        {
          "output_type": "stream",
          "text": [
            "WARNING:tensorflow:From /usr/local/lib/python3.6/dist-packages/tensorflow/python/ops/math_ops.py:3066: to_int32 (from tensorflow.python.ops.math_ops) is deprecated and will be removed in a future version.\n",
            "Instructions for updating:\n",
            "Use tf.cast instead.\n",
            "Epoch 1/100\n",
            "404/404 [==============================] - 3s 8ms/step - loss: 687.7470\n",
            "Epoch 2/100\n",
            "404/404 [==============================] - 1s 3ms/step - loss: 81.4038\n",
            "Epoch 3/100\n",
            "404/404 [==============================] - 1s 3ms/step - loss: 68.0565\n",
            "Epoch 4/100\n",
            "404/404 [==============================] - 1s 3ms/step - loss: 68.2195\n",
            "Epoch 5/100\n",
            "404/404 [==============================] - 1s 3ms/step - loss: 71.1759\n",
            "Epoch 6/100\n",
            "404/404 [==============================] - 1s 3ms/step - loss: 64.8161\n",
            "Epoch 7/100\n",
            "404/404 [==============================] - 1s 3ms/step - loss: 54.9159\n",
            "Epoch 8/100\n",
            "404/404 [==============================] - 1s 3ms/step - loss: 66.4987\n",
            "Epoch 9/100\n",
            "404/404 [==============================] - 1s 3ms/step - loss: 68.0408\n",
            "Epoch 10/100\n",
            "404/404 [==============================] - 1s 3ms/step - loss: 55.6158\n",
            "Epoch 11/100\n",
            "404/404 [==============================] - 1s 3ms/step - loss: 74.8113\n",
            "Epoch 12/100\n",
            "404/404 [==============================] - 1s 3ms/step - loss: 56.5040\n",
            "Epoch 13/100\n",
            "404/404 [==============================] - 1s 3ms/step - loss: 54.0439\n",
            "Epoch 14/100\n",
            "404/404 [==============================] - 1s 3ms/step - loss: 67.7889\n",
            "Epoch 15/100\n",
            "404/404 [==============================] - 1s 3ms/step - loss: 62.3861\n",
            "Epoch 16/100\n",
            "404/404 [==============================] - 1s 3ms/step - loss: 55.8708\n",
            "Epoch 17/100\n",
            "404/404 [==============================] - 1s 3ms/step - loss: 66.8774\n",
            "Epoch 18/100\n",
            "404/404 [==============================] - 1s 3ms/step - loss: 49.6942\n",
            "Epoch 19/100\n",
            "404/404 [==============================] - 1s 3ms/step - loss: 66.0340\n",
            "Epoch 20/100\n",
            "404/404 [==============================] - 1s 3ms/step - loss: 52.0596\n",
            "Epoch 21/100\n",
            "404/404 [==============================] - 1s 3ms/step - loss: 60.6825\n",
            "Epoch 22/100\n",
            "404/404 [==============================] - 1s 3ms/step - loss: 53.1972\n",
            "Epoch 23/100\n",
            "404/404 [==============================] - 1s 3ms/step - loss: 55.0598\n",
            "Epoch 24/100\n",
            "404/404 [==============================] - 1s 3ms/step - loss: 47.2620\n",
            "Epoch 25/100\n",
            "404/404 [==============================] - 1s 3ms/step - loss: 52.8414\n",
            "Epoch 26/100\n",
            "404/404 [==============================] - 1s 3ms/step - loss: 51.8611\n",
            "Epoch 27/100\n",
            "404/404 [==============================] - 1s 3ms/step - loss: 45.2677\n",
            "Epoch 28/100\n",
            "404/404 [==============================] - 1s 3ms/step - loss: 49.0410\n",
            "Epoch 29/100\n",
            "404/404 [==============================] - 1s 3ms/step - loss: 68.5296\n",
            "Epoch 30/100\n",
            "404/404 [==============================] - 1s 3ms/step - loss: 53.9812\n",
            "Epoch 31/100\n",
            "404/404 [==============================] - 1s 3ms/step - loss: 47.3331\n",
            "Epoch 32/100\n",
            "404/404 [==============================] - 1s 3ms/step - loss: 66.5484\n",
            "Epoch 33/100\n",
            "404/404 [==============================] - 1s 3ms/step - loss: 48.1850\n",
            "Epoch 34/100\n",
            "404/404 [==============================] - 1s 3ms/step - loss: 61.8652\n",
            "Epoch 35/100\n",
            "404/404 [==============================] - 1s 3ms/step - loss: 39.7135\n",
            "Epoch 36/100\n",
            "404/404 [==============================] - 1s 3ms/step - loss: 50.9735\n",
            "Epoch 37/100\n",
            "404/404 [==============================] - 1s 3ms/step - loss: 53.6968\n",
            "Epoch 38/100\n",
            "404/404 [==============================] - 1s 3ms/step - loss: 63.6928\n",
            "Epoch 39/100\n",
            "404/404 [==============================] - 1s 3ms/step - loss: 49.2282\n",
            "Epoch 40/100\n",
            "404/404 [==============================] - 1s 3ms/step - loss: 47.0855\n",
            "Epoch 41/100\n",
            "404/404 [==============================] - 1s 3ms/step - loss: 51.0654\n",
            "Epoch 42/100\n",
            "404/404 [==============================] - 1s 3ms/step - loss: 40.0204\n",
            "Epoch 43/100\n",
            "404/404 [==============================] - 1s 3ms/step - loss: 47.7344\n",
            "Epoch 44/100\n",
            "404/404 [==============================] - 1s 3ms/step - loss: 54.8599\n",
            "Epoch 45/100\n",
            "404/404 [==============================] - 1s 3ms/step - loss: 49.0630\n",
            "Epoch 46/100\n",
            "404/404 [==============================] - 1s 3ms/step - loss: 40.3457\n",
            "Epoch 47/100\n",
            "404/404 [==============================] - 1s 3ms/step - loss: 50.0523\n",
            "Epoch 48/100\n",
            "404/404 [==============================] - 1s 3ms/step - loss: 43.9513\n",
            "Epoch 49/100\n",
            "404/404 [==============================] - 1s 3ms/step - loss: 49.9564\n",
            "Epoch 50/100\n",
            "404/404 [==============================] - 1s 3ms/step - loss: 54.2451\n",
            "Epoch 51/100\n",
            "404/404 [==============================] - 1s 3ms/step - loss: 58.5554\n",
            "Epoch 52/100\n",
            "404/404 [==============================] - 1s 3ms/step - loss: 42.3602\n",
            "Epoch 53/100\n",
            "404/404 [==============================] - 1s 3ms/step - loss: 45.0180\n",
            "Epoch 54/100\n",
            "404/404 [==============================] - 1s 3ms/step - loss: 53.9237\n",
            "Epoch 55/100\n",
            "404/404 [==============================] - 1s 3ms/step - loss: 50.3062\n",
            "Epoch 56/100\n",
            "404/404 [==============================] - 1s 3ms/step - loss: 45.5454\n",
            "Epoch 57/100\n",
            "404/404 [==============================] - 1s 3ms/step - loss: 48.3288\n",
            "Epoch 58/100\n",
            "404/404 [==============================] - 1s 3ms/step - loss: 59.7694\n",
            "Epoch 59/100\n",
            "404/404 [==============================] - 1s 3ms/step - loss: 46.8836\n",
            "Epoch 60/100\n",
            "404/404 [==============================] - 1s 3ms/step - loss: 57.9316\n",
            "Epoch 61/100\n",
            "404/404 [==============================] - 1s 3ms/step - loss: 51.3729\n",
            "Epoch 62/100\n",
            "404/404 [==============================] - 1s 3ms/step - loss: 48.8807\n",
            "Epoch 63/100\n",
            "404/404 [==============================] - 1s 3ms/step - loss: 42.5185\n",
            "Epoch 64/100\n",
            "404/404 [==============================] - 1s 3ms/step - loss: 55.7730\n",
            "Epoch 65/100\n",
            "404/404 [==============================] - 1s 3ms/step - loss: 42.9377\n",
            "Epoch 66/100\n",
            "404/404 [==============================] - 1s 3ms/step - loss: 51.4909\n",
            "Epoch 67/100\n",
            "404/404 [==============================] - 1s 3ms/step - loss: 45.5764\n",
            "Epoch 68/100\n",
            "404/404 [==============================] - 1s 3ms/step - loss: 42.6219\n",
            "Epoch 69/100\n",
            "404/404 [==============================] - 1s 3ms/step - loss: 60.7243\n",
            "Epoch 70/100\n",
            "404/404 [==============================] - 1s 3ms/step - loss: 45.3239\n",
            "Epoch 71/100\n",
            "404/404 [==============================] - 1s 3ms/step - loss: 55.3662\n",
            "Epoch 72/100\n",
            "404/404 [==============================] - 1s 3ms/step - loss: 53.3991\n",
            "Epoch 73/100\n",
            "404/404 [==============================] - 1s 3ms/step - loss: 56.8437\n",
            "Epoch 74/100\n",
            "404/404 [==============================] - 1s 3ms/step - loss: 48.0647\n",
            "Epoch 75/100\n",
            "404/404 [==============================] - 1s 3ms/step - loss: 52.0382\n",
            "Epoch 76/100\n",
            "404/404 [==============================] - 1s 3ms/step - loss: 50.9272\n",
            "Epoch 77/100\n",
            "404/404 [==============================] - 1s 3ms/step - loss: 48.7224\n",
            "Epoch 78/100\n",
            "404/404 [==============================] - 1s 3ms/step - loss: 49.6957\n",
            "Epoch 79/100\n",
            "404/404 [==============================] - 1s 3ms/step - loss: 39.1059\n",
            "Epoch 80/100\n",
            "404/404 [==============================] - 1s 3ms/step - loss: 47.1395\n",
            "Epoch 81/100\n",
            "404/404 [==============================] - 1s 3ms/step - loss: 55.8441\n",
            "Epoch 82/100\n",
            "404/404 [==============================] - 1s 3ms/step - loss: 49.8365\n",
            "Epoch 83/100\n",
            "404/404 [==============================] - 1s 3ms/step - loss: 53.9800\n",
            "Epoch 84/100\n",
            "404/404 [==============================] - 1s 3ms/step - loss: 53.9299\n",
            "Epoch 85/100\n",
            "404/404 [==============================] - 1s 3ms/step - loss: 54.4427\n",
            "Epoch 86/100\n",
            "404/404 [==============================] - 1s 3ms/step - loss: 47.5869\n",
            "Epoch 87/100\n",
            "404/404 [==============================] - 1s 3ms/step - loss: 68.6655\n",
            "Epoch 88/100\n",
            "404/404 [==============================] - 1s 3ms/step - loss: 50.7916\n",
            "Epoch 89/100\n",
            "404/404 [==============================] - 1s 3ms/step - loss: 44.4704\n",
            "Epoch 90/100\n",
            "404/404 [==============================] - 1s 3ms/step - loss: 52.6877\n",
            "Epoch 91/100\n",
            "404/404 [==============================] - 1s 3ms/step - loss: 42.1647\n",
            "Epoch 92/100\n",
            "404/404 [==============================] - 1s 3ms/step - loss: 58.1695\n",
            "Epoch 93/100\n",
            "404/404 [==============================] - 1s 3ms/step - loss: 46.1001\n",
            "Epoch 94/100\n",
            "404/404 [==============================] - 1s 3ms/step - loss: 46.7781\n",
            "Epoch 95/100\n",
            "404/404 [==============================] - 1s 3ms/step - loss: 61.3253\n",
            "Epoch 96/100\n",
            "404/404 [==============================] - 1s 3ms/step - loss: 42.1591\n",
            "Epoch 97/100\n",
            "404/404 [==============================] - 1s 3ms/step - loss: 64.6261\n",
            "Epoch 98/100\n",
            "404/404 [==============================] - 1s 3ms/step - loss: 45.9061\n",
            "Epoch 99/100\n",
            "404/404 [==============================] - 1s 3ms/step - loss: 45.4497\n",
            "Epoch 100/100\n",
            "404/404 [==============================] - 1s 3ms/step - loss: 44.0252\n"
          ],
          "name": "stdout"
        },
        {
          "output_type": "execute_result",
          "data": {
            "text/plain": [
              "<keras.callbacks.History at 0x7f7ba0487908>"
            ]
          },
          "metadata": {
            "tags": []
          },
          "execution_count": 10
        }
      ]
    },
    {
      "metadata": {
        "id": "bNf8Bs1GVpEB",
        "colab_type": "code",
        "colab": {
          "base_uri": "https://localhost:8080/",
          "height": 3434
        },
        "outputId": "1f9942cc-57aa-49e8-eb58-8b9e768724f2"
      },
      "cell_type": "code",
      "source": [
        "model.fit(x_train_norm, y_train, epochs=100, batch_size=1)"
      ],
      "execution_count": 15,
      "outputs": [
        {
          "output_type": "stream",
          "text": [
            "Epoch 1/100\n",
            "404/404 [==============================] - 1s 3ms/step - loss: 240.2651\n",
            "Epoch 2/100\n",
            "404/404 [==============================] - 1s 3ms/step - loss: 123.8766\n",
            "Epoch 3/100\n",
            "404/404 [==============================] - 1s 3ms/step - loss: 74.6749\n",
            "Epoch 4/100\n",
            "404/404 [==============================] - 1s 3ms/step - loss: 50.7015\n",
            "Epoch 5/100\n",
            "404/404 [==============================] - 1s 3ms/step - loss: 39.0529\n",
            "Epoch 6/100\n",
            "404/404 [==============================] - 1s 3ms/step - loss: 33.5854\n",
            "Epoch 7/100\n",
            "404/404 [==============================] - 1s 3ms/step - loss: 30.8684\n",
            "Epoch 8/100\n",
            "404/404 [==============================] - 1s 3ms/step - loss: 29.4129\n",
            "Epoch 9/100\n",
            "404/404 [==============================] - 1s 3ms/step - loss: 28.5178\n",
            "Epoch 10/100\n",
            "404/404 [==============================] - 1s 3ms/step - loss: 27.5539\n",
            "Epoch 11/100\n",
            "404/404 [==============================] - 1s 3ms/step - loss: 26.8162\n",
            "Epoch 12/100\n",
            "404/404 [==============================] - 1s 3ms/step - loss: 26.1097\n",
            "Epoch 13/100\n",
            "404/404 [==============================] - 1s 3ms/step - loss: 25.6740\n",
            "Epoch 14/100\n",
            "404/404 [==============================] - 1s 3ms/step - loss: 25.1580\n",
            "Epoch 15/100\n",
            "404/404 [==============================] - 1s 3ms/step - loss: 24.6938\n",
            "Epoch 16/100\n",
            "404/404 [==============================] - 1s 3ms/step - loss: 24.3524\n",
            "Epoch 17/100\n",
            "404/404 [==============================] - 1s 3ms/step - loss: 23.9595\n",
            "Epoch 18/100\n",
            "404/404 [==============================] - 1s 3ms/step - loss: 23.7773\n",
            "Epoch 19/100\n",
            "404/404 [==============================] - 1s 3ms/step - loss: 23.7056\n",
            "Epoch 20/100\n",
            "404/404 [==============================] - 1s 3ms/step - loss: 23.4292\n",
            "Epoch 21/100\n",
            "404/404 [==============================] - 1s 3ms/step - loss: 23.3541\n",
            "Epoch 22/100\n",
            "404/404 [==============================] - 1s 3ms/step - loss: 23.2296\n",
            "Epoch 23/100\n",
            "404/404 [==============================] - 1s 3ms/step - loss: 23.3351\n",
            "Epoch 24/100\n",
            "404/404 [==============================] - 1s 3ms/step - loss: 23.1711\n",
            "Epoch 25/100\n",
            "404/404 [==============================] - 1s 3ms/step - loss: 22.9918\n",
            "Epoch 26/100\n",
            "404/404 [==============================] - 1s 3ms/step - loss: 23.1118\n",
            "Epoch 27/100\n",
            "404/404 [==============================] - 1s 3ms/step - loss: 22.9691\n",
            "Epoch 28/100\n",
            "404/404 [==============================] - 1s 3ms/step - loss: 22.8490\n",
            "Epoch 29/100\n",
            "404/404 [==============================] - 1s 3ms/step - loss: 22.9858\n",
            "Epoch 30/100\n",
            "404/404 [==============================] - 1s 3ms/step - loss: 22.8532\n",
            "Epoch 31/100\n",
            "404/404 [==============================] - 1s 3ms/step - loss: 22.8830\n",
            "Epoch 32/100\n",
            "404/404 [==============================] - 1s 3ms/step - loss: 22.9549\n",
            "Epoch 33/100\n",
            "404/404 [==============================] - 1s 3ms/step - loss: 22.8065\n",
            "Epoch 34/100\n",
            "404/404 [==============================] - 1s 3ms/step - loss: 22.8277\n",
            "Epoch 35/100\n",
            "404/404 [==============================] - 1s 3ms/step - loss: 23.0059\n",
            "Epoch 36/100\n",
            "404/404 [==============================] - 1s 3ms/step - loss: 22.7905\n",
            "Epoch 37/100\n",
            "404/404 [==============================] - 1s 3ms/step - loss: 22.7390\n",
            "Epoch 38/100\n",
            "404/404 [==============================] - 1s 3ms/step - loss: 22.6723\n",
            "Epoch 39/100\n",
            "404/404 [==============================] - 1s 3ms/step - loss: 22.7102\n",
            "Epoch 40/100\n",
            "404/404 [==============================] - 1s 3ms/step - loss: 22.8077\n",
            "Epoch 41/100\n",
            "404/404 [==============================] - 1s 3ms/step - loss: 22.8734\n",
            "Epoch 42/100\n",
            "404/404 [==============================] - 1s 3ms/step - loss: 22.7251\n",
            "Epoch 43/100\n",
            "404/404 [==============================] - 1s 3ms/step - loss: 22.7453\n",
            "Epoch 44/100\n",
            "404/404 [==============================] - 1s 3ms/step - loss: 22.5363\n",
            "Epoch 45/100\n",
            "404/404 [==============================] - 1s 3ms/step - loss: 22.6979\n",
            "Epoch 46/100\n",
            "404/404 [==============================] - 1s 3ms/step - loss: 22.8199\n",
            "Epoch 47/100\n",
            "404/404 [==============================] - 1s 3ms/step - loss: 22.8427\n",
            "Epoch 48/100\n",
            "404/404 [==============================] - 1s 3ms/step - loss: 22.8536\n",
            "Epoch 49/100\n",
            "404/404 [==============================] - 1s 3ms/step - loss: 22.8725\n",
            "Epoch 50/100\n",
            "404/404 [==============================] - 1s 3ms/step - loss: 22.6017\n",
            "Epoch 51/100\n",
            "404/404 [==============================] - 1s 3ms/step - loss: 22.6874\n",
            "Epoch 52/100\n",
            "404/404 [==============================] - 1s 3ms/step - loss: 22.7344\n",
            "Epoch 53/100\n",
            "404/404 [==============================] - 1s 3ms/step - loss: 22.6750\n",
            "Epoch 54/100\n",
            "404/404 [==============================] - 1s 3ms/step - loss: 22.6348\n",
            "Epoch 55/100\n",
            "404/404 [==============================] - 1s 3ms/step - loss: 22.6006\n",
            "Epoch 56/100\n",
            "404/404 [==============================] - 1s 3ms/step - loss: 22.6583\n",
            "Epoch 57/100\n",
            "404/404 [==============================] - 1s 3ms/step - loss: 22.6739\n",
            "Epoch 58/100\n",
            "404/404 [==============================] - 1s 3ms/step - loss: 22.7480\n",
            "Epoch 59/100\n",
            "404/404 [==============================] - 1s 3ms/step - loss: 22.6218\n",
            "Epoch 60/100\n",
            "404/404 [==============================] - 1s 3ms/step - loss: 22.7126\n",
            "Epoch 61/100\n",
            "404/404 [==============================] - 1s 3ms/step - loss: 22.5754\n",
            "Epoch 62/100\n",
            "404/404 [==============================] - 1s 3ms/step - loss: 22.6162\n",
            "Epoch 63/100\n",
            "404/404 [==============================] - 1s 3ms/step - loss: 22.6823\n",
            "Epoch 64/100\n",
            "404/404 [==============================] - 1s 3ms/step - loss: 22.6945\n",
            "Epoch 65/100\n",
            "404/404 [==============================] - 1s 3ms/step - loss: 22.5358\n",
            "Epoch 66/100\n",
            "404/404 [==============================] - 1s 3ms/step - loss: 22.6487\n",
            "Epoch 67/100\n",
            "404/404 [==============================] - 1s 3ms/step - loss: 22.5772\n",
            "Epoch 68/100\n",
            "404/404 [==============================] - 1s 3ms/step - loss: 22.7558\n",
            "Epoch 69/100\n",
            "404/404 [==============================] - 1s 3ms/step - loss: 22.6003\n",
            "Epoch 70/100\n",
            "404/404 [==============================] - 1s 3ms/step - loss: 22.5900\n",
            "Epoch 71/100\n",
            "404/404 [==============================] - 1s 3ms/step - loss: 22.6088\n",
            "Epoch 72/100\n",
            "404/404 [==============================] - 1s 3ms/step - loss: 22.5938\n",
            "Epoch 73/100\n",
            "404/404 [==============================] - 1s 3ms/step - loss: 22.5520\n",
            "Epoch 74/100\n",
            "404/404 [==============================] - 1s 3ms/step - loss: 22.5540\n",
            "Epoch 75/100\n",
            "404/404 [==============================] - 1s 3ms/step - loss: 22.6604\n",
            "Epoch 76/100\n",
            "404/404 [==============================] - 1s 3ms/step - loss: 22.6203\n",
            "Epoch 77/100\n",
            "404/404 [==============================] - 1s 3ms/step - loss: 22.6758\n",
            "Epoch 78/100\n",
            "404/404 [==============================] - 1s 3ms/step - loss: 22.5028\n",
            "Epoch 79/100\n",
            "404/404 [==============================] - 1s 3ms/step - loss: 22.5863\n",
            "Epoch 80/100\n",
            "404/404 [==============================] - 1s 3ms/step - loss: 22.4280\n",
            "Epoch 81/100\n",
            "404/404 [==============================] - 1s 3ms/step - loss: 22.4782\n",
            "Epoch 82/100\n",
            "404/404 [==============================] - 1s 3ms/step - loss: 22.7392\n",
            "Epoch 83/100\n",
            "404/404 [==============================] - 1s 3ms/step - loss: 22.5416\n",
            "Epoch 84/100\n",
            "404/404 [==============================] - 1s 3ms/step - loss: 22.6299\n",
            "Epoch 85/100\n",
            "404/404 [==============================] - 1s 3ms/step - loss: 22.6440\n",
            "Epoch 86/100\n",
            "404/404 [==============================] - 1s 3ms/step - loss: 22.5283\n",
            "Epoch 87/100\n",
            "404/404 [==============================] - 1s 3ms/step - loss: 22.6660\n",
            "Epoch 88/100\n",
            "404/404 [==============================] - 1s 3ms/step - loss: 22.6534\n",
            "Epoch 89/100\n",
            "404/404 [==============================] - 1s 3ms/step - loss: 22.4605\n",
            "Epoch 90/100\n",
            "404/404 [==============================] - 1s 3ms/step - loss: 22.6310\n",
            "Epoch 91/100\n",
            "404/404 [==============================] - 1s 3ms/step - loss: 22.6159\n",
            "Epoch 92/100\n",
            "404/404 [==============================] - 1s 3ms/step - loss: 22.5424\n",
            "Epoch 93/100\n",
            "404/404 [==============================] - 1s 3ms/step - loss: 22.6531\n",
            "Epoch 94/100\n",
            "404/404 [==============================] - 1s 3ms/step - loss: 22.6931\n",
            "Epoch 95/100\n",
            "404/404 [==============================] - 1s 3ms/step - loss: 22.5986\n",
            "Epoch 96/100\n",
            "404/404 [==============================] - 1s 3ms/step - loss: 22.5520\n",
            "Epoch 97/100\n",
            "404/404 [==============================] - 1s 3ms/step - loss: 22.7123\n",
            "Epoch 98/100\n",
            "404/404 [==============================] - 1s 3ms/step - loss: 22.5840\n",
            "Epoch 99/100\n",
            "404/404 [==============================] - 1s 3ms/step - loss: 22.5331\n",
            "Epoch 100/100\n",
            "404/404 [==============================] - 1s 3ms/step - loss: 22.6422\n"
          ],
          "name": "stdout"
        },
        {
          "output_type": "execute_result",
          "data": {
            "text/plain": [
              "<keras.callbacks.History at 0x7f7b600285c0>"
            ]
          },
          "metadata": {
            "tags": []
          },
          "execution_count": 15
        }
      ]
    },
    {
      "metadata": {
        "id": "VG9eJhdXeqoi",
        "colab_type": "code",
        "colab": {}
      },
      "cell_type": "code",
      "source": [
        "# Graphic display *after* training\n",
        "W, b = [np.asscalar(v) for v in model.layers[0].get_weights()]\n",
        "plt.plot(train_X, train_Y, 'ro', label='Original data')\n",
        "plt.plot(train_X, W * train_X + b, label='Fitted line')\n",
        "plt.legend()\n",
        "plt.show()"
      ],
      "execution_count": 0,
      "outputs": []
    },
    {
      "metadata": {
        "id": "Ze9BhSj7V81p",
        "colab_type": "code",
        "colab": {}
      },
      "cell_type": "code",
      "source": [
        "# apply to verify the loss in a test set"
      ],
      "execution_count": 0,
      "outputs": []
    },
    {
      "metadata": {
        "id": "O-N1Gaz6V-e_",
        "colab_type": "code",
        "colab": {}
      },
      "cell_type": "code",
      "source": [
        ""
      ],
      "execution_count": 0,
      "outputs": []
    },
    {
      "metadata": {
        "id": "Uv97O9x3juWp",
        "colab_type": "text"
      },
      "cell_type": "markdown",
      "source": [
        "## Next steps\n",
        "\n",
        "Keras provides a [dataset](https://keras.io/datasets/#boston-housing-price-regression-dataset) with house attributes and pricing in Boston in the 1970s. Can you train a model that predicts the price of a house it has never seen given its attributes?\n",
        "\n",
        "Note: unlike in this simple example, you will be working with two data splits (train and test). Remember that the test data is only used for evaluation, as it can give us a measure of how good the model is when making predictions for data it has never seen.\n",
        "\n",
        "Tip: machine learning models usually work better when all inputs have a similar range. Try to normalize the data that is fed to the model by subtracting the mean and dividing by the standard deviation for each input dimension."
      ]
    }
  ]
}